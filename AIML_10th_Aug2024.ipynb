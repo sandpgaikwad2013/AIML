{
 "cells": [
  {
   "cell_type": "code",
   "execution_count": 1,
   "id": "14e4981a",
   "metadata": {},
   "outputs": [
    {
     "name": "stdout",
     "output_type": "stream",
     "text": [
      "Hello World\n"
     ]
    }
   ],
   "source": [
    "print(\"Hello World\")"
   ]
  },
  {
   "cell_type": "code",
   "execution_count": 2,
   "id": "9d44593f",
   "metadata": {},
   "outputs": [],
   "source": [
    "#Shift +Enter to run code "
   ]
  },
  {
   "cell_type": "code",
   "execution_count": 3,
   "id": "46209a47",
   "metadata": {},
   "outputs": [],
   "source": [
    "va2 =123"
   ]
  },
  {
   "cell_type": "code",
   "execution_count": 4,
   "id": "41ef8a29",
   "metadata": {},
   "outputs": [
    {
     "data": {
      "text/plain": [
       "123"
      ]
     },
     "execution_count": 4,
     "metadata": {},
     "output_type": "execute_result"
    }
   ],
   "source": [
    "va2"
   ]
  },
  {
   "cell_type": "code",
   "execution_count": 5,
   "id": "805abcfe",
   "metadata": {},
   "outputs": [
    {
     "ename": "NameError",
     "evalue": "name 'freeze' is not defined",
     "output_type": "error",
     "traceback": [
      "\u001b[0;31m---------------------------------------------------------------------------\u001b[0m",
      "\u001b[0;31mNameError\u001b[0m                                 Traceback (most recent call last)",
      "Cell \u001b[0;32mIn [5], line 1\u001b[0m\n\u001b[0;32m----> 1\u001b[0m \u001b[43mfreeze\u001b[49m\n",
      "\u001b[0;31mNameError\u001b[0m: name 'freeze' is not defined"
     ]
    }
   ],
   "source": [
    "freeze\n"
   ]
  },
  {
   "cell_type": "code",
   "execution_count": 6,
   "id": "cc5a6984",
   "metadata": {},
   "outputs": [
    {
     "name": "stdout",
     "output_type": "stream",
     "text": [
      "appnope==0.1.3\n",
      "argon2-cffi==21.3.0\n",
      "argon2-cffi-bindings==21.2.0\n",
      "asttokens==2.0.8\n",
      "attrs==22.1.0\n",
      "backcall==0.2.0\n",
      "beautifulsoup4==4.11.1\n",
      "bleach==5.0.1\n",
      "certifi==2022.9.24\n",
      "cffi==1.15.1\n",
      "debugpy==1.6.3\n",
      "decorator==5.1.1\n",
      "defusedxml==0.7.1\n",
      "entrypoints==0.4\n",
      "executing==1.1.1\n",
      "fastjsonschema==2.16.2\n",
      "ipykernel==6.16.0\n",
      "ipython==8.5.0\n",
      "ipython-genutils==0.2.0\n",
      "jedi==0.18.1\n",
      "Jinja2==3.1.2\n",
      "jsonschema==4.16.0\n",
      "jupyter-core==4.11.1\n",
      "jupyter_client==7.3.5\n",
      "jupyterlab-pygments==0.2.2\n",
      "MarkupSafe==2.1.1\n",
      "matplotlib-inline==0.1.6\n",
      "mistune==2.0.4\n",
      "nbclient==0.7.0\n",
      "nbconvert==7.2.1\n",
      "nbformat==5.6.1\n",
      "nest-asyncio==1.5.6\n",
      "notebook==6.4.12\n",
      "numpy==1.26.4\n",
      "packaging==21.3\n",
      "pandas==2.2.2\n",
      "pandocfilters==1.5.0\n",
      "parso==0.8.3\n",
      "pexpect==4.8.0\n",
      "pickleshare==0.7.5\n",
      "prometheus-client==0.14.1\n",
      "prompt-toolkit==3.0.31\n",
      "psutil==5.9.2\n",
      "ptyprocess==0.7.0\n",
      "pure-eval==0.2.2\n",
      "pycparser==2.21\n",
      "Pygments==2.13.0\n",
      "pyparsing==3.0.9\n",
      "pyrsistent==0.18.1\n",
      "python-dateutil==2.8.2\n",
      "pytz==2024.1\n",
      "pyzmq==24.0.1\n",
      "Send2Trash==1.8.0\n",
      "six==1.16.0\n",
      "soupsieve==2.3.2.post1\n",
      "stack-data==0.5.1\n",
      "terminado==0.16.0\n",
      "tinycss2==1.1.1\n",
      "tornado==6.2\n",
      "traitlets==5.4.0\n",
      "tzdata==2024.1\n",
      "wcwidth==0.2.5\n",
      "webencodings==0.5.1\n",
      "Note: you may need to restart the kernel to use updated packages.\n"
     ]
    }
   ],
   "source": [
    "pip freeze"
   ]
  },
  {
   "cell_type": "code",
   "execution_count": 7,
   "id": "52a4cbd1",
   "metadata": {},
   "outputs": [
    {
     "ename": "SyntaxError",
     "evalue": "invalid syntax (2943971747.py, line 1)",
     "output_type": "error",
     "traceback": [
      "\u001b[0;36m  Cell \u001b[0;32mIn [7], line 1\u001b[0;36m\u001b[0m\n\u001b[0;31m    int a=2.0\u001b[0m\n\u001b[0m        ^\u001b[0m\n\u001b[0;31mSyntaxError\u001b[0m\u001b[0;31m:\u001b[0m invalid syntax\n"
     ]
    }
   ],
   "source": [
    "int a=2.0"
   ]
  },
  {
   "cell_type": "code",
   "execution_count": 8,
   "id": "63bb2825",
   "metadata": {},
   "outputs": [],
   "source": [
    "var_int=2\n",
    "var_float=2.0\n",
    "var_string=\"Srting\""
   ]
  },
  {
   "cell_type": "code",
   "execution_count": 11,
   "id": "0720421a",
   "metadata": {},
   "outputs": [
    {
     "name": "stdout",
     "output_type": "stream",
     "text": [
      " intiger variable 2 , float variable 2.0 , string Srting\n"
     ]
    }
   ],
   "source": [
    "print(f\" intiger variable {var_int} , float variable {var_float} , string {var_string}\")"
   ]
  },
  {
   "cell_type": "code",
   "execution_count": 14,
   "id": "9e05ddb7",
   "metadata": {},
   "outputs": [
    {
     "name": "stdout",
     "output_type": "stream",
     "text": [
      " int type <class 'int'>  \n",
      " float type <class 'float'> \n",
      " string type <class 'str'>\n"
     ]
    }
   ],
   "source": [
    "print(f\" int type {type(var_int)}  \\n float type {type(var_float)} \\n string type {type(var_string)}\")"
   ]
  },
  {
   "cell_type": "code",
   "execution_count": 31,
   "id": "2c3dfb8d",
   "metadata": {},
   "outputs": [
    {
     "name": "stdout",
     "output_type": "stream",
     "text": [
      "Decimal division/Float division2.8\n",
      "Intiger divistion/floor division 2\n"
     ]
    }
   ],
   "source": [
    "num1=28\n",
    "num2=10\n",
    "print(f\"Decimal division/Float division{num1/num2}\")\n",
    "print(f\"Intiger divistion/floor division {num1//num2}\")\n",
    "#floor division will remve decimal part (not round of )"
   ]
  },
  {
   "cell_type": "code",
   "execution_count": 32,
   "id": "6e5b0f25",
   "metadata": {},
   "outputs": [
    {
     "data": {
      "text/plain": [
       "8.666666666666666"
      ]
     },
     "execution_count": 32,
     "metadata": {},
     "output_type": "execute_result"
    }
   ],
   "source": [
    "26/3\n"
   ]
  },
  {
   "cell_type": "code",
   "execution_count": 33,
   "id": "02a2a7ce",
   "metadata": {},
   "outputs": [
    {
     "data": {
      "text/plain": [
       "2"
      ]
     },
     "execution_count": 33,
     "metadata": {},
     "output_type": "execute_result"
    }
   ],
   "source": [
    "26%3"
   ]
  },
  {
   "cell_type": "code",
   "execution_count": 34,
   "id": "ea818dbe",
   "metadata": {},
   "outputs": [
    {
     "data": {
      "text/plain": [
       "0"
      ]
     },
     "execution_count": 34,
     "metadata": {},
     "output_type": "execute_result"
    }
   ],
   "source": [
    "30%10"
   ]
  },
  {
   "cell_type": "code",
   "execution_count": 35,
   "id": "03ddca22",
   "metadata": {},
   "outputs": [
    {
     "name": "stdout",
     "output_type": "stream",
     "text": [
      " print remender  10\n"
     ]
    }
   ],
   "source": [
    "# % modulos operator is used to get remender \n",
    "num1=110\n",
    "n2=100\n",
    "print(f\" print remender  {num1%n2}\")"
   ]
  },
  {
   "cell_type": "code",
   "execution_count": 36,
   "id": "99074f82",
   "metadata": {},
   "outputs": [
    {
     "data": {
      "text/plain": [
       "25"
      ]
     },
     "execution_count": 36,
     "metadata": {},
     "output_type": "execute_result"
    }
   ],
   "source": [
    "5**2"
   ]
  },
  {
   "cell_type": "code",
   "execution_count": 38,
   "id": "242da5fb",
   "metadata": {},
   "outputs": [
    {
     "name": "stdout",
     "output_type": "stream",
     "text": [
      " Average of three numbers 15.0\n"
     ]
    }
   ],
   "source": [
    "# write a avegare for 3 numbers \n",
    "num1 =10\n",
    "num2 =15\n",
    "num3 =20\n",
    "print (f\" Average of three numbers {(num1+num2+num3)/3}\")"
   ]
  },
  {
   "cell_type": "code",
   "execution_count": 39,
   "id": "49293d69",
   "metadata": {},
   "outputs": [
    {
     "name": "stdout",
     "output_type": "stream",
     "text": [
      "  average of numbers 15.0\n"
     ]
    }
   ],
   "source": [
    "# how to define variables in single line \n",
    "num1,num2,num3 = 10,15,20\n",
    "print(f\"  average of numbers {(num1+num2+num3)/3}\")"
   ]
  },
  {
   "cell_type": "code",
   "execution_count": 40,
   "id": "7f5598ca",
   "metadata": {},
   "outputs": [
    {
     "name": "stdout",
     "output_type": "stream",
     "text": [
      "50.0\n"
     ]
    }
   ],
   "source": [
    "tem_degree=10\n",
    "fahrenhelt = (tem_degree*1.8)+32\n",
    "print(fahrenhelt)"
   ]
  },
  {
   "cell_type": "code",
   "execution_count": 41,
   "id": "56d78fea",
   "metadata": {},
   "outputs": [],
   "source": [
    "def degree_to_fahrenhelt(tem_degree):\n",
    "    print(f\" temprature in fahrenhelt {(tem_degree*1.8)+32}\")"
   ]
  },
  {
   "cell_type": "code",
   "execution_count": 42,
   "id": "21261211",
   "metadata": {},
   "outputs": [
    {
     "name": "stdout",
     "output_type": "stream",
     "text": [
      " temprature in fahrenhelt 50.0\n"
     ]
    }
   ],
   "source": [
    "degree_to_fahrenhelt(10)"
   ]
  },
  {
   "cell_type": "code",
   "execution_count": 43,
   "id": "343f0c33",
   "metadata": {},
   "outputs": [
    {
     "name": "stdout",
     "output_type": "stream",
     "text": [
      " temprature in fahrenhelt 89.6\n"
     ]
    }
   ],
   "source": [
    "degree_to_fahrenhelt(32)"
   ]
  },
  {
   "cell_type": "code",
   "execution_count": 44,
   "id": "e36760d3",
   "metadata": {},
   "outputs": [],
   "source": [
    "def fahrenhelt_degree(farhenhel):\n",
    "    print(f\" in degree {(fahrenhelt-32)/1.8}\")"
   ]
  },
  {
   "cell_type": "code",
   "execution_count": 46,
   "id": "b1681ca0",
   "metadata": {},
   "outputs": [
    {
     "name": "stdout",
     "output_type": "stream",
     "text": [
      " in degree 10.0\n"
     ]
    }
   ],
   "source": [
    "fahrenhelt_degree(50)"
   ]
  },
  {
   "cell_type": "code",
   "execution_count": 48,
   "id": "24713822",
   "metadata": {},
   "outputs": [
    {
     "name": "stdout",
     "output_type": "stream",
     "text": [
      " simple interest is 600.0\n"
     ]
    }
   ],
   "source": [
    "# calculate simple interetst \n",
    "principal =1000\n",
    "interest= 12\n",
    "time =5\n",
    "si =principal*interest*time/100\n",
    "print(f\" simple interest is {si}\")"
   ]
  },
  {
   "cell_type": "code",
   "execution_count": 65,
   "id": "1bb48259",
   "metadata": {},
   "outputs": [],
   "source": [
    "def inr_to_doller(inr_amonut):\n",
    "    print(f\" print  {round(((inr_amonut/82.23)),2)}\")\n",
    "    return round((inr_amonut/82.23),2)"
   ]
  },
  {
   "cell_type": "code",
   "execution_count": 66,
   "id": "01da1b31",
   "metadata": {},
   "outputs": [
    {
     "name": "stdout",
     "output_type": "stream",
     "text": [
      " print  42.38\n"
     ]
    },
    {
     "data": {
      "text/plain": [
       "42.38"
      ]
     },
     "execution_count": 66,
     "metadata": {},
     "output_type": "execute_result"
    }
   ],
   "source": [
    "inr_to_doller(3484.5)"
   ]
  },
  {
   "cell_type": "code",
   "execution_count": 68,
   "id": "7da39745",
   "metadata": {},
   "outputs": [],
   "source": [
    "def area_peremiter(side):\n",
    "    print(f\" area {side**2}\")\n",
    "    print(f\" peremeter {4*side} \")"
   ]
  },
  {
   "cell_type": "code",
   "execution_count": 69,
   "id": "0be21bce",
   "metadata": {},
   "outputs": [
    {
     "name": "stdout",
     "output_type": "stream",
     "text": [
      " area 16\n",
      " peremeter 16 \n"
     ]
    }
   ],
   "source": [
    "area_peremiter(4)"
   ]
  },
  {
   "cell_type": "code",
   "execution_count": 71,
   "id": "df6ea018",
   "metadata": {},
   "outputs": [],
   "source": [
    "##sting indexing "
   ]
  },
  {
   "cell_type": "code",
   "execution_count": 94,
   "id": "c79eee7e",
   "metadata": {},
   "outputs": [],
   "source": [
    "my_string=\"upgrad my class\""
   ]
  },
  {
   "cell_type": "code",
   "execution_count": 89,
   "id": "e0e63281",
   "metadata": {},
   "outputs": [
    {
     "data": {
      "text/plain": [
       "'a'"
      ]
     },
     "execution_count": 89,
     "metadata": {},
     "output_type": "execute_result"
    }
   ],
   "source": [
    "my_string[-2]"
   ]
  },
  {
   "cell_type": "code",
   "execution_count": 92,
   "id": "ac6095db",
   "metadata": {},
   "outputs": [
    {
     "data": {
      "text/plain": [
       "'up'"
      ]
     },
     "execution_count": 92,
     "metadata": {},
     "output_type": "execute_result"
    }
   ],
   "source": [
    "my_string[:2]"
   ]
  },
  {
   "cell_type": "code",
   "execution_count": 97,
   "id": "de2bee21",
   "metadata": {},
   "outputs": [
    {
     "data": {
      "text/plain": [
       "'My'"
      ]
     },
     "execution_count": 97,
     "metadata": {},
     "output_type": "execute_result"
    }
   ],
   "source": [
    "my_string[7:9].title()"
   ]
  },
  {
   "cell_type": "code",
   "execution_count": 100,
   "id": "67e0fc4b",
   "metadata": {},
   "outputs": [
    {
     "data": {
      "text/plain": [
       "'prdm ls'"
      ]
     },
     "execution_count": 100,
     "metadata": {},
     "output_type": "execute_result"
    }
   ],
   "source": [
    "my_string[1::2]"
   ]
  },
  {
   "cell_type": "code",
   "execution_count": 113,
   "id": "8f0f6517",
   "metadata": {},
   "outputs": [],
   "source": [
    "my_string=\" data2scirnce \""
   ]
  },
  {
   "cell_type": "code",
   "execution_count": 102,
   "id": "7bc9a1fc",
   "metadata": {},
   "outputs": [
    {
     "data": {
      "text/plain": [
       "'Data Science'"
      ]
     },
     "execution_count": 102,
     "metadata": {},
     "output_type": "execute_result"
    }
   ],
   "source": [
    "my_string.title()"
   ]
  },
  {
   "cell_type": "code",
   "execution_count": 103,
   "id": "6c73a20b",
   "metadata": {},
   "outputs": [
    {
     "data": {
      "text/plain": [
       "'Data science'"
      ]
     },
     "execution_count": 103,
     "metadata": {},
     "output_type": "execute_result"
    }
   ],
   "source": [
    "my_string.capitalize()"
   ]
  },
  {
   "cell_type": "code",
   "execution_count": 105,
   "id": "6aa26dfb",
   "metadata": {},
   "outputs": [
    {
     "ename": "NameError",
     "evalue": "name 'capitalize' is not defined",
     "output_type": "error",
     "traceback": [
      "\u001b[0;31m---------------------------------------------------------------------------\u001b[0m",
      "\u001b[0;31mNameError\u001b[0m                                 Traceback (most recent call last)",
      "Cell \u001b[0;32mIn [105], line 1\u001b[0m\n\u001b[0;32m----> 1\u001b[0m help(\u001b[43mcapitalize\u001b[49m())\n",
      "\u001b[0;31mNameError\u001b[0m: name 'capitalize' is not defined"
     ]
    }
   ],
   "source": [
    "help(capitalize())"
   ]
  },
  {
   "cell_type": "code",
   "execution_count": 106,
   "id": "cb22af86",
   "metadata": {},
   "outputs": [
    {
     "data": {
      "text/plain": [
       "12"
      ]
     },
     "execution_count": 106,
     "metadata": {},
     "output_type": "execute_result"
    }
   ],
   "source": [
    "len(my_string)"
   ]
  },
  {
   "cell_type": "code",
   "execution_count": 114,
   "id": "c66f4b8f",
   "metadata": {},
   "outputs": [
    {
     "data": {
      "text/plain": [
       "True"
      ]
     },
     "execution_count": 114,
     "metadata": {},
     "output_type": "execute_result"
    }
   ],
   "source": [
    "my_string.islower()"
   ]
  },
  {
   "cell_type": "code",
   "execution_count": 112,
   "id": "1bbb4816",
   "metadata": {},
   "outputs": [
    {
     "data": {
      "text/plain": [
       "False"
      ]
     },
     "execution_count": 112,
     "metadata": {},
     "output_type": "execute_result"
    }
   ],
   "source": [
    "my_string.istitle()"
   ]
  },
  {
   "cell_type": "code",
   "execution_count": 115,
   "id": "efd688af",
   "metadata": {},
   "outputs": [],
   "source": [
    "def make_upper(input: str):\n",
    "    print(f\" input : {input} and output: {input.title()}\")"
   ]
  },
  {
   "cell_type": "code",
   "execution_count": 116,
   "id": "b4a3891e",
   "metadata": {},
   "outputs": [
    {
     "name": "stdout",
     "output_type": "stream",
     "text": [
      " input : sandeep and output: Sandeep\n"
     ]
    }
   ],
   "source": [
    "make_upper(\"sandeep\")"
   ]
  },
  {
   "cell_type": "code",
   "execution_count": 118,
   "id": "0e74bb65",
   "metadata": {},
   "outputs": [
    {
     "data": {
      "text/plain": [
       "int"
      ]
     },
     "execution_count": 118,
     "metadata": {},
     "output_type": "execute_result"
    }
   ],
   "source": [
    "# Data type and its conversion \n",
    "var1 =5\n",
    "type(var1)"
   ]
  },
  {
   "cell_type": "code",
   "execution_count": 120,
   "id": "a285d435",
   "metadata": {},
   "outputs": [
    {
     "data": {
      "text/plain": [
       "float"
      ]
     },
     "execution_count": 120,
     "metadata": {},
     "output_type": "execute_result"
    }
   ],
   "source": [
    "var2=float(var1)\n",
    "type(var2)"
   ]
  },
  {
   "cell_type": "code",
   "execution_count": 123,
   "id": "44e02bf4",
   "metadata": {},
   "outputs": [
    {
     "name": "stdout",
     "output_type": "stream",
     "text": [
      "5.0\n"
     ]
    }
   ],
   "source": [
    "var3= str(var2)\n",
    "type(var3)\n",
    "print(var3)"
   ]
  },
  {
   "cell_type": "code",
   "execution_count": 124,
   "id": "de67a833",
   "metadata": {},
   "outputs": [],
   "source": [
    "var_float =5.0"
   ]
  },
  {
   "cell_type": "code",
   "execution_count": 125,
   "id": "245ca261",
   "metadata": {},
   "outputs": [
    {
     "data": {
      "text/plain": [
       "float"
      ]
     },
     "execution_count": 125,
     "metadata": {},
     "output_type": "execute_result"
    }
   ],
   "source": [
    "type(var_float)"
   ]
  },
  {
   "cell_type": "code",
   "execution_count": 127,
   "id": "c9d13e20",
   "metadata": {},
   "outputs": [
    {
     "data": {
      "text/plain": [
       "int"
      ]
     },
     "execution_count": 127,
     "metadata": {},
     "output_type": "execute_result"
    }
   ],
   "source": [
    "var_int=int(var_float)\n",
    "type(var_int)\n",
    "#print(var_int)"
   ]
  },
  {
   "cell_type": "code",
   "execution_count": null,
   "id": "41cd1374",
   "metadata": {},
   "outputs": [],
   "source": []
  }
 ],
 "metadata": {
  "kernelspec": {
   "display_name": "Python 3 (ipykernel)",
   "language": "python",
   "name": "python3"
  },
  "language_info": {
   "codemirror_mode": {
    "name": "ipython",
    "version": 3
   },
   "file_extension": ".py",
   "mimetype": "text/x-python",
   "name": "python",
   "nbconvert_exporter": "python",
   "pygments_lexer": "ipython3",
   "version": "3.10.7"
  }
 },
 "nbformat": 4,
 "nbformat_minor": 5
}
