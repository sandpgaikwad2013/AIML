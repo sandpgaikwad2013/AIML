{
 "cells": [
  {
   "cell_type": "code",
   "execution_count": 8,
   "id": "963c0cc9",
   "metadata": {},
   "outputs": [],
   "source": [
    "my_list = [1,1411,59 ,10,20,40]"
   ]
  },
  {
   "cell_type": "code",
   "execution_count": 2,
   "id": "aeb42934",
   "metadata": {},
   "outputs": [
    {
     "name": "stdout",
     "output_type": "stream",
     "text": [
      "1\n",
      "1411\n",
      "59\n"
     ]
    }
   ],
   "source": [
    "for var1 in my_list :\n",
    "    print(var1)"
   ]
  },
  {
   "cell_type": "code",
   "execution_count": 3,
   "id": "d52ccac3",
   "metadata": {},
   "outputs": [
    {
     "data": {
      "text/plain": [
       "[1, 1990921, 3481]"
      ]
     },
     "execution_count": 3,
     "metadata": {},
     "output_type": "execute_result"
    }
   ],
   "source": [
    "[ var1*var1 for var1 in my_list]"
   ]
  },
  {
   "cell_type": "code",
   "execution_count": 9,
   "id": "69f3cc7e",
   "metadata": {},
   "outputs": [
    {
     "data": {
      "text/plain": [
       "[10, 20, 40]"
      ]
     },
     "execution_count": 9,
     "metadata": {},
     "output_type": "execute_result"
    }
   ],
   "source": [
    "[var1 for var1 in my_list if var1%2 ==0]"
   ]
  },
  {
   "cell_type": "code",
   "execution_count": 10,
   "id": "92753ef9",
   "metadata": {},
   "outputs": [],
   "source": [
    "my_list.append(202)"
   ]
  },
  {
   "cell_type": "code",
   "execution_count": 11,
   "id": "5a655e36",
   "metadata": {},
   "outputs": [
    {
     "data": {
      "text/plain": [
       "[1, 1411, 59, 10, 20, 40, 202]"
      ]
     },
     "execution_count": 11,
     "metadata": {},
     "output_type": "execute_result"
    }
   ],
   "source": [
    "my_list"
   ]
  },
  {
   "cell_type": "code",
   "execution_count": 12,
   "id": "f14a32c6",
   "metadata": {},
   "outputs": [],
   "source": [
    "my_list.reverse()"
   ]
  },
  {
   "cell_type": "code",
   "execution_count": 13,
   "id": "5cf16ca0",
   "metadata": {},
   "outputs": [
    {
     "data": {
      "text/plain": [
       "[202, 40, 20, 10, 59, 1411, 1]"
      ]
     },
     "execution_count": 13,
     "metadata": {},
     "output_type": "execute_result"
    }
   ],
   "source": [
    "my_list"
   ]
  },
  {
   "cell_type": "code",
   "execution_count": 14,
   "id": "050afac7",
   "metadata": {},
   "outputs": [
    {
     "data": {
      "text/plain": [
       "1"
      ]
     },
     "execution_count": 14,
     "metadata": {},
     "output_type": "execute_result"
    }
   ],
   "source": [
    "my_list.pop()"
   ]
  },
  {
   "cell_type": "code",
   "execution_count": 15,
   "id": "5589fb91",
   "metadata": {},
   "outputs": [
    {
     "data": {
      "text/plain": [
       "[202, 40, 20, 10, 59, 1411]"
      ]
     },
     "execution_count": 15,
     "metadata": {},
     "output_type": "execute_result"
    }
   ],
   "source": [
    "my_list"
   ]
  },
  {
   "cell_type": "code",
   "execution_count": 20,
   "id": "30c0e512",
   "metadata": {},
   "outputs": [],
   "source": [
    "my_list.remove(20)"
   ]
  },
  {
   "cell_type": "code",
   "execution_count": 21,
   "id": "a0e1f9db",
   "metadata": {},
   "outputs": [
    {
     "data": {
      "text/plain": [
       "[202, 40, 10, 59, 1411]"
      ]
     },
     "execution_count": 21,
     "metadata": {},
     "output_type": "execute_result"
    }
   ],
   "source": [
    "my_list"
   ]
  },
  {
   "cell_type": "code",
   "execution_count": 24,
   "id": "5a738bae",
   "metadata": {},
   "outputs": [
    {
     "data": {
      "text/plain": [
       "1"
      ]
     },
     "execution_count": 24,
     "metadata": {},
     "output_type": "execute_result"
    }
   ],
   "source": [
    "my_list.index(40)"
   ]
  },
  {
   "cell_type": "code",
   "execution_count": 26,
   "id": "72c123d3",
   "metadata": {},
   "outputs": [],
   "source": [
    "my_list.insert(1,22)"
   ]
  },
  {
   "cell_type": "code",
   "execution_count": 27,
   "id": "aa0df6e1",
   "metadata": {},
   "outputs": [
    {
     "data": {
      "text/plain": [
       "[202, 22, 40, 10, 59, 1411]"
      ]
     },
     "execution_count": 27,
     "metadata": {},
     "output_type": "execute_result"
    }
   ],
   "source": [
    "my_list"
   ]
  },
  {
   "cell_type": "code",
   "execution_count": 28,
   "id": "aff93bec",
   "metadata": {},
   "outputs": [],
   "source": [
    "my_list.append(\"sandeep\")"
   ]
  },
  {
   "cell_type": "code",
   "execution_count": 29,
   "id": "5fa5019e",
   "metadata": {},
   "outputs": [
    {
     "data": {
      "text/plain": [
       "[202, 22, 40, 10, 59, 1411, 'sandeep']"
      ]
     },
     "execution_count": 29,
     "metadata": {},
     "output_type": "execute_result"
    }
   ],
   "source": [
    "my_list"
   ]
  },
  {
   "cell_type": "code",
   "execution_count": 30,
   "id": "45771f6d",
   "metadata": {},
   "outputs": [],
   "source": [
    "# flatten the list \n",
    "my_list2= [[1,3],[5,7],[2,6,7]]"
   ]
  },
  {
   "cell_type": "code",
   "execution_count": 31,
   "id": "200c902e",
   "metadata": {},
   "outputs": [
    {
     "data": {
      "text/plain": [
       "[1, 3, 5, 7, 2, 6, 7]"
      ]
     },
     "execution_count": 31,
     "metadata": {},
     "output_type": "execute_result"
    }
   ],
   "source": [
    "[ num for row in my_list2 for num in row ]"
   ]
  },
  {
   "cell_type": "code",
   "execution_count": 34,
   "id": "1f5f96e9",
   "metadata": {},
   "outputs": [
    {
     "data": {
      "text/plain": [
       "[1, 8, 27, 64, 216]"
      ]
     },
     "execution_count": 34,
     "metadata": {},
     "output_type": "execute_result"
    }
   ],
   "source": [
    "#cube of number \n",
    "num1 = [1,2,3,4,6]\n",
    "[ n1*n1*n1 for n1 in num1 ]"
   ]
  },
  {
   "cell_type": "code",
   "execution_count": 37,
   "id": "b65e98c8",
   "metadata": {},
   "outputs": [
    {
     "data": {
      "text/plain": [
       "[0, 1, 2, 3, 4, 5, 6, 7, 8, 9, 10, 11, 12, 13, 14, 15, 16, 17, 18, 19, 20]"
      ]
     },
     "execution_count": 37,
     "metadata": {},
     "output_type": "execute_result"
    }
   ],
   "source": [
    "# print the 0 to 20 numbers \n",
    "[i for i in range(21)]"
   ]
  },
  {
   "cell_type": "code",
   "execution_count": 42,
   "id": "69dc5252",
   "metadata": {},
   "outputs": [
    {
     "data": {
      "text/plain": [
       "['a', 'b', 'c', 'd']"
      ]
     },
     "execution_count": 42,
     "metadata": {},
     "output_type": "execute_result"
    }
   ],
   "source": [
    "# create a list of first letters of given list\n",
    "words = [\"apple\", \"banana\", \"cherry\", \"date\"]\n",
    "[i[0:1] for i in words]"
   ]
  },
  {
   "cell_type": "code",
   "execution_count": 46,
   "id": "bbbc68e6",
   "metadata": {},
   "outputs": [
    {
     "data": {
      "text/plain": [
       "[(0, 10), (1, 20), (2, 30), (3, 40)]"
      ]
     },
     "execution_count": 46,
     "metadata": {},
     "output_type": "execute_result"
    }
   ],
   "source": [
    "# create touple of given list with index and value \n",
    "numbers = [10, 20, 30, 40]\n",
    "[ (numbers.index(n1),n1) for n1 in numbers  ]"
   ]
  },
  {
   "cell_type": "code",
   "execution_count": 47,
   "id": "4292dc03",
   "metadata": {},
   "outputs": [
    {
     "data": {
      "text/plain": [
       "[1, 2, 3, 4, 5, 6]"
      ]
     },
     "execution_count": 47,
     "metadata": {},
     "output_type": "execute_result"
    }
   ],
   "source": [
    "# flatten the given list \n",
    "matrix = [[1, 2], [3, 4], [5, 6]]\n",
    "[ l2 for l1 in matrix for l2 in l1 ]"
   ]
  },
  {
   "cell_type": "code",
   "execution_count": 52,
   "id": "c244a7a8",
   "metadata": {},
   "outputs": [
    {
     "data": {
      "text/plain": [
       "[4, 2, 1, 8]"
      ]
     },
     "execution_count": 52,
     "metadata": {},
     "output_type": "execute_result"
    }
   ],
   "source": [
    "# create list of worlds of given This is a sentence\n",
    "sencence =\"This is a sentence\"\n",
    "[ len(world) for world in sencence.split() ]"
   ]
  },
  {
   "cell_type": "code",
   "execution_count": 53,
   "id": "2976f019",
   "metadata": {},
   "outputs": [],
   "source": [
    "#  get max and min \n"
   ]
  },
  {
   "cell_type": "code",
   "execution_count": 54,
   "id": "7c6d1c79",
   "metadata": {},
   "outputs": [
    {
     "data": {
      "text/plain": [
       "40"
      ]
     },
     "execution_count": 54,
     "metadata": {},
     "output_type": "execute_result"
    }
   ],
   "source": [
    "max(numbers)"
   ]
  },
  {
   "cell_type": "code",
   "execution_count": 55,
   "id": "1eaeccd7",
   "metadata": {},
   "outputs": [
    {
     "data": {
      "text/plain": [
       "10"
      ]
     },
     "execution_count": 55,
     "metadata": {},
     "output_type": "execute_result"
    }
   ],
   "source": [
    "min(numbers)"
   ]
  },
  {
   "cell_type": "code",
   "execution_count": 56,
   "id": "3b72427d",
   "metadata": {},
   "outputs": [
    {
     "data": {
      "text/plain": [
       "100"
      ]
     },
     "execution_count": 56,
     "metadata": {},
     "output_type": "execute_result"
    }
   ],
   "source": [
    "sum(numbers)"
   ]
  },
  {
   "cell_type": "code",
   "execution_count": 59,
   "id": "552f34a6",
   "metadata": {},
   "outputs": [
    {
     "data": {
      "text/plain": [
       "['e', 'o', 'o']"
      ]
     },
     "execution_count": 59,
     "metadata": {},
     "output_type": "execute_result"
    }
   ],
   "source": [
    "#print vovels in world \"hello world\"\n",
    "world =\"hello world\"\n",
    "[c for c in world if c in \"aeiou\"]"
   ]
  },
  {
   "cell_type": "code",
   "execution_count": 58,
   "id": "4dd75b5c",
   "metadata": {},
   "outputs": [
    {
     "data": {
      "text/plain": [
       "25.0"
      ]
     },
     "execution_count": 58,
     "metadata": {},
     "output_type": "execute_result"
    }
   ],
   "source": [
    "sum(numbers)/len(numbers)"
   ]
  },
  {
   "cell_type": "code",
   "execution_count": 60,
   "id": "ba2195cf",
   "metadata": {},
   "outputs": [
    {
     "data": {
      "text/plain": [
       "[1, 9, 25]"
      ]
     },
     "execution_count": 60,
     "metadata": {},
     "output_type": "execute_result"
    }
   ],
   "source": [
    "#suqal of odd numbers \n",
    "numbers = [1, 2, 3, 4, 5]\n",
    "[num*num for num in numbers  if num%2!=0]"
   ]
  },
  {
   "cell_type": "code",
   "execution_count": 61,
   "id": "434ea2ad",
   "metadata": {},
   "outputs": [
    {
     "data": {
      "text/plain": [
       "[(1, 1),\n",
       " (1, 2),\n",
       " (1, 3),\n",
       " (1, 4),\n",
       " (1, 5),\n",
       " (2, 1),\n",
       " (2, 2),\n",
       " (2, 3),\n",
       " (2, 4),\n",
       " (2, 5),\n",
       " (3, 1),\n",
       " (3, 2),\n",
       " (3, 3),\n",
       " (3, 4),\n",
       " (3, 5),\n",
       " (4, 1),\n",
       " (4, 2),\n",
       " (4, 3),\n",
       " (4, 4),\n",
       " (4, 5),\n",
       " (5, 1),\n",
       " (5, 2),\n",
       " (5, 3),\n",
       " (5, 4),\n",
       " (5, 5)]"
      ]
     },
     "execution_count": 61,
     "metadata": {},
     "output_type": "execute_result"
    }
   ],
   "source": [
    "# combination of numbers \n",
    "[(x,y) for x in numbers for y in numbers]"
   ]
  },
  {
   "cell_type": "code",
   "execution_count": 64,
   "id": "ff72837a",
   "metadata": {},
   "outputs": [
    {
     "data": {
      "text/plain": [
       "[(1, 2),\n",
       " (1, 3),\n",
       " (1, 4),\n",
       " (1, 5),\n",
       " (2, 1),\n",
       " (2, 3),\n",
       " (2, 4),\n",
       " (2, 5),\n",
       " (3, 1),\n",
       " (3, 2),\n",
       " (3, 4),\n",
       " (3, 5),\n",
       " (4, 1),\n",
       " (4, 2),\n",
       " (4, 3),\n",
       " (4, 5),\n",
       " (5, 1),\n",
       " (5, 2),\n",
       " (5, 3),\n",
       " (5, 4)]"
      ]
     },
     "execution_count": 64,
     "metadata": {},
     "output_type": "execute_result"
    }
   ],
   "source": [
    "# possible combinaiton \n",
    "[(x,y) for x in numbers for y in numbers if x!=y]"
   ]
  },
  {
   "cell_type": "code",
   "execution_count": 65,
   "id": "c16cbe70",
   "metadata": {},
   "outputs": [],
   "source": [
    "# append add elment in the end of the list \n",
    "numbers.append(2022)"
   ]
  },
  {
   "cell_type": "code",
   "execution_count": 66,
   "id": "b0893ed1",
   "metadata": {},
   "outputs": [
    {
     "data": {
      "text/plain": [
       "[1, 2, 3, 4, 5, 2022]"
      ]
     },
     "execution_count": 66,
     "metadata": {},
     "output_type": "execute_result"
    }
   ],
   "source": [
    "numbers"
   ]
  },
  {
   "cell_type": "code",
   "execution_count": 67,
   "id": "7b5017f4",
   "metadata": {},
   "outputs": [],
   "source": [
    "#  inset number as o index \n",
    "numbers.insert(2,2014)"
   ]
  },
  {
   "cell_type": "code",
   "execution_count": 68,
   "id": "f9eeac3e",
   "metadata": {},
   "outputs": [
    {
     "data": {
      "text/plain": [
       "[1, 2, 2014, 3, 4, 5, 2022]"
      ]
     },
     "execution_count": 68,
     "metadata": {},
     "output_type": "execute_result"
    }
   ],
   "source": [
    "numbers"
   ]
  },
  {
   "cell_type": "code",
   "execution_count": 71,
   "id": "1331bb35",
   "metadata": {},
   "outputs": [],
   "source": [
    "numbers.remove(1)"
   ]
  },
  {
   "cell_type": "code",
   "execution_count": 72,
   "id": "82315f24",
   "metadata": {},
   "outputs": [
    {
     "data": {
      "text/plain": [
       "[2, 2014, 3, 4, 5, 2022]"
      ]
     },
     "execution_count": 72,
     "metadata": {},
     "output_type": "execute_result"
    }
   ],
   "source": [
    "numbers"
   ]
  },
  {
   "cell_type": "code",
   "execution_count": 73,
   "id": "87a8f098",
   "metadata": {},
   "outputs": [
    {
     "name": "stdout",
     "output_type": "stream",
     "text": [
      "Help on built-in function remove:\n",
      "\n",
      "remove(value, /) method of builtins.list instance\n",
      "    Remove first occurrence of value.\n",
      "    \n",
      "    Raises ValueError if the value is not present.\n",
      "\n"
     ]
    }
   ],
   "source": [
    "help(numbers.remove)"
   ]
  },
  {
   "cell_type": "code",
   "execution_count": 74,
   "id": "6231dbac",
   "metadata": {},
   "outputs": [
    {
     "name": "stdout",
     "output_type": "stream",
     "text": [
      "Help on built-in function sort:\n",
      "\n",
      "sort(*, key=None, reverse=False) method of builtins.list instance\n",
      "    Sort the list in ascending order and return None.\n",
      "    \n",
      "    The sort is in-place (i.e. the list itself is modified) and stable (i.e. the\n",
      "    order of two equal elements is maintained).\n",
      "    \n",
      "    If a key function is given, apply it once to each list item and sort them,\n",
      "    ascending or descending, according to their function values.\n",
      "    \n",
      "    The reverse flag can be set to sort in descending order.\n",
      "\n"
     ]
    }
   ],
   "source": [
    "help(numbers.sort)"
   ]
  },
  {
   "cell_type": "code",
   "execution_count": 75,
   "id": "c9800b1e",
   "metadata": {},
   "outputs": [],
   "source": [
    "numbers.reverse()"
   ]
  },
  {
   "cell_type": "code",
   "execution_count": 76,
   "id": "c965a03d",
   "metadata": {},
   "outputs": [
    {
     "data": {
      "text/plain": [
       "[2022, 5, 4, 3, 2014, 2]"
      ]
     },
     "execution_count": 76,
     "metadata": {},
     "output_type": "execute_result"
    }
   ],
   "source": [
    "numbers"
   ]
  },
  {
   "cell_type": "code",
   "execution_count": 79,
   "id": "802ef286",
   "metadata": {},
   "outputs": [],
   "source": [
    "numbers.sort()"
   ]
  },
  {
   "cell_type": "code",
   "execution_count": 83,
   "id": "13961def",
   "metadata": {},
   "outputs": [
    {
     "data": {
      "text/plain": [
       "[2, 3, 4, 5, 2014, 2022]"
      ]
     },
     "execution_count": 83,
     "metadata": {},
     "output_type": "execute_result"
    }
   ],
   "source": [
    "numbers.sort(reverse=False)\n",
    "numbers"
   ]
  },
  {
   "cell_type": "code",
   "execution_count": 84,
   "id": "0b5583bc",
   "metadata": {},
   "outputs": [],
   "source": [
    "numbers.extend(numbers)"
   ]
  },
  {
   "cell_type": "code",
   "execution_count": 85,
   "id": "e9c9afbe",
   "metadata": {},
   "outputs": [
    {
     "data": {
      "text/plain": [
       "[2, 3, 4, 5, 2014, 2022, 2, 3, 4, 5, 2014, 2022]"
      ]
     },
     "execution_count": 85,
     "metadata": {},
     "output_type": "execute_result"
    }
   ],
   "source": [
    "numbers"
   ]
  },
  {
   "cell_type": "code",
   "execution_count": 86,
   "id": "8b09f8c0",
   "metadata": {},
   "outputs": [],
   "source": [
    "# remove all the elements from then list\n",
    "numbers.clear()"
   ]
  },
  {
   "cell_type": "code",
   "execution_count": 87,
   "id": "3c16461b",
   "metadata": {},
   "outputs": [
    {
     "data": {
      "text/plain": [
       "[]"
      ]
     },
     "execution_count": 87,
     "metadata": {},
     "output_type": "execute_result"
    }
   ],
   "source": [
    "numbers"
   ]
  },
  {
   "cell_type": "code",
   "execution_count": 91,
   "id": "bb21354d",
   "metadata": {},
   "outputs": [],
   "source": [
    "ls =[11,2,3,4,4,4,6,]"
   ]
  },
  {
   "cell_type": "code",
   "execution_count": 93,
   "id": "a3da0c85",
   "metadata": {},
   "outputs": [
    {
     "data": {
      "text/plain": [
       "3"
      ]
     },
     "execution_count": 93,
     "metadata": {},
     "output_type": "execute_result"
    }
   ],
   "source": [
    "#  count is used to check how many times input element has been added in list\n",
    "ls.count(4)"
   ]
  },
  {
   "cell_type": "code",
   "execution_count": 94,
   "id": "89994679",
   "metadata": {},
   "outputs": [
    {
     "data": {
      "text/plain": [
       "[11, 2, 3, 4, 4, 4, 6]"
      ]
     },
     "execution_count": 94,
     "metadata": {},
     "output_type": "execute_result"
    }
   ],
   "source": [
    "ls"
   ]
  },
  {
   "cell_type": "code",
   "execution_count": 96,
   "id": "e6b1a42a",
   "metadata": {},
   "outputs": [],
   "source": [
    "# create dict \n",
    "my_dict ={\"name\":\"sandeep\",\"age\":30}"
   ]
  },
  {
   "cell_type": "code",
   "execution_count": 97,
   "id": "d00fb054",
   "metadata": {},
   "outputs": [
    {
     "data": {
      "text/plain": [
       "{'name': 'sandeep', 'age': 30}"
      ]
     },
     "execution_count": 97,
     "metadata": {},
     "output_type": "execute_result"
    }
   ],
   "source": [
    "my_dict"
   ]
  },
  {
   "cell_type": "code",
   "execution_count": 98,
   "id": "79c59999",
   "metadata": {},
   "outputs": [
    {
     "data": {
      "text/plain": [
       "dict_keys(['name', 'age'])"
      ]
     },
     "execution_count": 98,
     "metadata": {},
     "output_type": "execute_result"
    }
   ],
   "source": [
    "my_dict.keys()"
   ]
  },
  {
   "cell_type": "code",
   "execution_count": 99,
   "id": "a8c40a1b",
   "metadata": {},
   "outputs": [
    {
     "data": {
      "text/plain": [
       "dict_values(['sandeep', 30])"
      ]
     },
     "execution_count": 99,
     "metadata": {},
     "output_type": "execute_result"
    }
   ],
   "source": [
    "my_dict.values()"
   ]
  },
  {
   "cell_type": "code",
   "execution_count": 100,
   "id": "da82af79",
   "metadata": {},
   "outputs": [],
   "source": [
    "my_dict[\"age\"]=20"
   ]
  },
  {
   "cell_type": "code",
   "execution_count": 101,
   "id": "9de0c149",
   "metadata": {},
   "outputs": [
    {
     "data": {
      "text/plain": [
       "{'name': 'sandeep', 'age': 20}"
      ]
     },
     "execution_count": 101,
     "metadata": {},
     "output_type": "execute_result"
    }
   ],
   "source": [
    "my_dict"
   ]
  },
  {
   "cell_type": "code",
   "execution_count": 102,
   "id": "bb16275d",
   "metadata": {},
   "outputs": [],
   "source": [
    "del my_dict[\"age\"]"
   ]
  },
  {
   "cell_type": "code",
   "execution_count": 103,
   "id": "b3a08ea4",
   "metadata": {},
   "outputs": [
    {
     "data": {
      "text/plain": [
       "{'name': 'sandeep'}"
      ]
     },
     "execution_count": 103,
     "metadata": {},
     "output_type": "execute_result"
    }
   ],
   "source": [
    "my_dict"
   ]
  },
  {
   "cell_type": "code",
   "execution_count": 104,
   "id": "9f259e6c",
   "metadata": {},
   "outputs": [
    {
     "name": "stdout",
     "output_type": "stream",
     "text": [
      "Help on built-in function get:\n",
      "\n",
      "get(key, default=None, /) method of builtins.dict instance\n",
      "    Return the value for key if key is in the dictionary, else default.\n",
      "\n"
     ]
    }
   ],
   "source": [
    "help(my_dict.get)"
   ]
  },
  {
   "cell_type": "code",
   "execution_count": 109,
   "id": "7358de1b",
   "metadata": {},
   "outputs": [
    {
     "data": {
      "text/plain": [
       "'congrats'"
      ]
     },
     "execution_count": 109,
     "metadata": {},
     "output_type": "execute_result"
    }
   ],
   "source": [
    "my_dict.get(\"name1\",\"congrats\")"
   ]
  },
  {
   "cell_type": "code",
   "execution_count": 110,
   "id": "a51b3c42",
   "metadata": {},
   "outputs": [],
   "source": [
    "my_dict.update(my_dict)"
   ]
  },
  {
   "cell_type": "code",
   "execution_count": 112,
   "id": "d9000d90",
   "metadata": {},
   "outputs": [],
   "source": [
    "my_dict2= {\"age\":20}"
   ]
  },
  {
   "cell_type": "code",
   "execution_count": 113,
   "id": "043dc374",
   "metadata": {},
   "outputs": [],
   "source": [
    "my_dict.update(my_dict2)"
   ]
  },
  {
   "cell_type": "code",
   "execution_count": 114,
   "id": "cf5849b4",
   "metadata": {},
   "outputs": [
    {
     "data": {
      "text/plain": [
       "{'name': 'sandeep', 'age': 20}"
      ]
     },
     "execution_count": 114,
     "metadata": {},
     "output_type": "execute_result"
    }
   ],
   "source": [
    "my_dict"
   ]
  },
  {
   "cell_type": "code",
   "execution_count": 125,
   "id": "ca9febf5",
   "metadata": {},
   "outputs": [
    {
     "data": {
      "text/plain": [
       "{'age': 10}"
      ]
     },
     "execution_count": 125,
     "metadata": {},
     "output_type": "execute_result"
    }
   ],
   "source": [
    "my_dict2= {\"age\":10}\n",
    "my_dict2"
   ]
  },
  {
   "cell_type": "markdown",
   "id": "f82cb63d",
   "metadata": {},
   "source": [
    " "
   ]
  },
  {
   "cell_type": "code",
   "execution_count": 116,
   "id": "2cc133f4",
   "metadata": {},
   "outputs": [],
   "source": [
    "my_dict.update(my_dict3)"
   ]
  },
  {
   "cell_type": "code",
   "execution_count": 126,
   "id": "38dd423d",
   "metadata": {},
   "outputs": [
    {
     "data": {
      "text/plain": [
       "{'age': 10}"
      ]
     },
     "execution_count": 126,
     "metadata": {},
     "output_type": "execute_result"
    }
   ],
   "source": [
    "my_dict3"
   ]
  },
  {
   "cell_type": "code",
   "execution_count": 122,
   "id": "6ed8abea",
   "metadata": {},
   "outputs": [],
   "source": [
    "my_dict3.update(my_dict2)"
   ]
  },
  {
   "cell_type": "code",
   "execution_count": 123,
   "id": "6c8dc3f9",
   "metadata": {},
   "outputs": [
    {
     "data": {
      "text/plain": [
       "{'name': 'sandeep', 'age': 30}"
      ]
     },
     "execution_count": 123,
     "metadata": {},
     "output_type": "execute_result"
    }
   ],
   "source": [
    "my_dict"
   ]
  },
  {
   "cell_type": "code",
   "execution_count": 127,
   "id": "00f2b90d",
   "metadata": {},
   "outputs": [],
   "source": [
    "nested_person = {'first_name': 'Gopal', 'last_name': 'Verma', 'age': 30, 'gender': 'Male', 'address': {'street': '2nd Main Road', 'city': 'Bengaluru', 'state': 'Karnataka', 'zip_code': 56873}, 'email': 'gopalverma@upgradlearn.com', 'phone': [21218765,131243435], 'is_employed': True}\n"
   ]
  },
  {
   "cell_type": "code",
   "execution_count": 128,
   "id": "f0da0576",
   "metadata": {},
   "outputs": [
    {
     "data": {
      "text/plain": [
       "{'first_name': 'Gopal',\n",
       " 'last_name': 'Verma',\n",
       " 'age': 30,\n",
       " 'gender': 'Male',\n",
       " 'address': {'street': '2nd Main Road',\n",
       "  'city': 'Bengaluru',\n",
       "  'state': 'Karnataka',\n",
       "  'zip_code': 56873},\n",
       " 'email': 'gopalverma@upgradlearn.com',\n",
       " 'phone': [21218765, 131243435],\n",
       " 'is_employed': True}"
      ]
     },
     "execution_count": 128,
     "metadata": {},
     "output_type": "execute_result"
    }
   ],
   "source": [
    "nested_person"
   ]
  },
  {
   "cell_type": "code",
   "execution_count": 131,
   "id": "61c2b353",
   "metadata": {},
   "outputs": [
    {
     "data": {
      "text/plain": [
       "'Bengaluru'"
      ]
     },
     "execution_count": 131,
     "metadata": {},
     "output_type": "execute_result"
    }
   ],
   "source": [
    "nested_person[\"address\"][\"city\"]"
   ]
  },
  {
   "cell_type": "code",
   "execution_count": 139,
   "id": "2c2d4e81",
   "metadata": {},
   "outputs": [],
   "source": [
    "d1={\"a\":1,\"b\":2}\n",
    "d2={\"b\":3,\"d\":4}"
   ]
  },
  {
   "cell_type": "code",
   "execution_count": 137,
   "id": "02b50a9e",
   "metadata": {},
   "outputs": [],
   "source": [
    "d2.update(d1)"
   ]
  },
  {
   "cell_type": "code",
   "execution_count": 138,
   "id": "b5d9d6c4",
   "metadata": {},
   "outputs": [
    {
     "data": {
      "text/plain": [
       "{'b': 2, 'd': 4, 'a': 1}"
      ]
     },
     "execution_count": 138,
     "metadata": {},
     "output_type": "execute_result"
    }
   ],
   "source": [
    "d2"
   ]
  },
  {
   "cell_type": "code",
   "execution_count": 140,
   "id": "f1b0117e",
   "metadata": {},
   "outputs": [
    {
     "ename": "TypeError",
     "evalue": "pop expected at least 1 argument, got 0",
     "output_type": "error",
     "traceback": [
      "\u001b[0;31m---------------------------------------------------------------------------\u001b[0m",
      "\u001b[0;31mTypeError\u001b[0m                                 Traceback (most recent call last)",
      "Cell \u001b[0;32mIn [140], line 1\u001b[0m\n\u001b[0;32m----> 1\u001b[0m \u001b[43md1\u001b[49m\u001b[38;5;241;43m.\u001b[39;49m\u001b[43mpop\u001b[49m\u001b[43m(\u001b[49m\u001b[43m)\u001b[49m\n",
      "\u001b[0;31mTypeError\u001b[0m: pop expected at least 1 argument, got 0"
     ]
    }
   ],
   "source": [
    "d1.pop()"
   ]
  },
  {
   "cell_type": "code",
   "execution_count": 141,
   "id": "e4f364d3",
   "metadata": {},
   "outputs": [
    {
     "data": {
      "text/plain": [
       "1"
      ]
     },
     "execution_count": 141,
     "metadata": {},
     "output_type": "execute_result"
    }
   ],
   "source": [
    "d1.pop(\"a\")"
   ]
  },
  {
   "cell_type": "code",
   "execution_count": 142,
   "id": "17710f0c",
   "metadata": {},
   "outputs": [
    {
     "data": {
      "text/plain": [
       "{'b': 2}"
      ]
     },
     "execution_count": 142,
     "metadata": {},
     "output_type": "execute_result"
    }
   ],
   "source": [
    "d1"
   ]
  },
  {
   "cell_type": "code",
   "execution_count": 143,
   "id": "d648fbaf",
   "metadata": {},
   "outputs": [],
   "source": [
    "d1.update(d2)"
   ]
  },
  {
   "cell_type": "code",
   "execution_count": 144,
   "id": "00993161",
   "metadata": {},
   "outputs": [
    {
     "data": {
      "text/plain": [
       "{'b': 3, 'd': 4}"
      ]
     },
     "execution_count": 144,
     "metadata": {},
     "output_type": "execute_result"
    }
   ],
   "source": [
    "d1"
   ]
  },
  {
   "cell_type": "code",
   "execution_count": 145,
   "id": "74577bf2",
   "metadata": {},
   "outputs": [
    {
     "data": {
      "text/plain": [
       "('d', 4)"
      ]
     },
     "execution_count": 145,
     "metadata": {},
     "output_type": "execute_result"
    }
   ],
   "source": [
    "d1.popitem()"
   ]
  },
  {
   "cell_type": "code",
   "execution_count": 165,
   "id": "44b328a9",
   "metadata": {},
   "outputs": [],
   "source": [
    "tup =(1,2,34)"
   ]
  },
  {
   "cell_type": "code",
   "execution_count": 163,
   "id": "cd7c2c59",
   "metadata": {},
   "outputs": [
    {
     "ename": "TypeError",
     "evalue": "'dict_keys' object is not subscriptable",
     "output_type": "error",
     "traceback": [
      "\u001b[0;31m---------------------------------------------------------------------------\u001b[0m",
      "\u001b[0;31mTypeError\u001b[0m                                 Traceback (most recent call last)",
      "Cell \u001b[0;32mIn [163], line 1\u001b[0m\n\u001b[0;32m----> 1\u001b[0m \u001b[43md1\u001b[49m\u001b[38;5;241;43m.\u001b[39;49m\u001b[43mkeys\u001b[49m\u001b[43m(\u001b[49m\u001b[43m)\u001b[49m\u001b[43m[\u001b[49m\u001b[38;5;241;43m0\u001b[39;49m\u001b[43m]\u001b[49m\n",
      "\u001b[0;31mTypeError\u001b[0m: 'dict_keys' object is not subscriptable"
     ]
    }
   ],
   "source": [
    " d"
   ]
  },
  {
   "cell_type": "code",
   "execution_count": 166,
   "id": "d3af8b72",
   "metadata": {},
   "outputs": [
    {
     "data": {
      "text/plain": [
       "(1, 2, 34)"
      ]
     },
     "execution_count": 166,
     "metadata": {},
     "output_type": "execute_result"
    }
   ],
   "source": [
    "tup"
   ]
  },
  {
   "cell_type": "code",
   "execution_count": 167,
   "id": "a601d228",
   "metadata": {},
   "outputs": [
    {
     "data": {
      "text/plain": [
       "[1, 2, 34]"
      ]
     },
     "execution_count": 167,
     "metadata": {},
     "output_type": "execute_result"
    }
   ],
   "source": [
    "sorted(tup)\n"
   ]
  },
  {
   "cell_type": "code",
   "execution_count": 168,
   "id": "fc75fa9e",
   "metadata": {},
   "outputs": [],
   "source": [
    "ls=list(tup)"
   ]
  },
  {
   "cell_type": "code",
   "execution_count": 169,
   "id": "d2ba1bde",
   "metadata": {},
   "outputs": [
    {
     "data": {
      "text/plain": [
       "[1, 2, 34]"
      ]
     },
     "execution_count": 169,
     "metadata": {},
     "output_type": "execute_result"
    }
   ],
   "source": [
    "ls\n"
   ]
  },
  {
   "cell_type": "code",
   "execution_count": 170,
   "id": "52b70155",
   "metadata": {},
   "outputs": [],
   "source": [
    "tp =tuple(ls)"
   ]
  },
  {
   "cell_type": "code",
   "execution_count": 171,
   "id": "cd5df562",
   "metadata": {},
   "outputs": [
    {
     "data": {
      "text/plain": [
       "(1, 2, 34)"
      ]
     },
     "execution_count": 171,
     "metadata": {},
     "output_type": "execute_result"
    }
   ],
   "source": [
    "tp\n"
   ]
  },
  {
   "cell_type": "code",
   "execution_count": 172,
   "id": "9af0d1ef",
   "metadata": {},
   "outputs": [],
   "source": [
    "#set \n",
    "my_set ={1,2,3}"
   ]
  },
  {
   "cell_type": "code",
   "execution_count": 173,
   "id": "fe384226",
   "metadata": {},
   "outputs": [
    {
     "data": {
      "text/plain": [
       "{1, 2, 3}"
      ]
     },
     "execution_count": 173,
     "metadata": {},
     "output_type": "execute_result"
    }
   ],
   "source": [
    "my_set"
   ]
  },
  {
   "cell_type": "code",
   "execution_count": 174,
   "id": "c0dbc599",
   "metadata": {},
   "outputs": [
    {
     "data": {
      "text/plain": [
       "True"
      ]
     },
     "execution_count": 174,
     "metadata": {},
     "output_type": "execute_result"
    }
   ],
   "source": [
    "1 in my_set"
   ]
  },
  {
   "cell_type": "code",
   "execution_count": 175,
   "id": "bd730ed2",
   "metadata": {},
   "outputs": [],
   "source": [
    "my_set.add(1)"
   ]
  },
  {
   "cell_type": "code",
   "execution_count": 176,
   "id": "112d6c2a",
   "metadata": {},
   "outputs": [
    {
     "data": {
      "text/plain": [
       "{1, 2, 3}"
      ]
     },
     "execution_count": 176,
     "metadata": {},
     "output_type": "execute_result"
    }
   ],
   "source": [
    "my_set"
   ]
  },
  {
   "cell_type": "code",
   "execution_count": 177,
   "id": "3006d87a",
   "metadata": {},
   "outputs": [],
   "source": [
    "my_set.add(20)"
   ]
  },
  {
   "cell_type": "code",
   "execution_count": 178,
   "id": "67d88368",
   "metadata": {},
   "outputs": [
    {
     "data": {
      "text/plain": [
       "{1, 2, 3, 20}"
      ]
     },
     "execution_count": 178,
     "metadata": {},
     "output_type": "execute_result"
    }
   ],
   "source": [
    "my_set"
   ]
  },
  {
   "cell_type": "code",
   "execution_count": 179,
   "id": "d4155a38",
   "metadata": {},
   "outputs": [],
   "source": [
    "s=set()"
   ]
  },
  {
   "cell_type": "code",
   "execution_count": 180,
   "id": "a92c690e",
   "metadata": {},
   "outputs": [
    {
     "data": {
      "text/plain": [
       "set()"
      ]
     },
     "execution_count": 180,
     "metadata": {},
     "output_type": "execute_result"
    }
   ],
   "source": [
    "s"
   ]
  },
  {
   "cell_type": "code",
   "execution_count": 181,
   "id": "ae63e848",
   "metadata": {},
   "outputs": [],
   "source": [
    "s.add(1)"
   ]
  },
  {
   "cell_type": "code",
   "execution_count": 182,
   "id": "02697349",
   "metadata": {},
   "outputs": [
    {
     "data": {
      "text/plain": [
       "{1}"
      ]
     },
     "execution_count": 182,
     "metadata": {},
     "output_type": "execute_result"
    }
   ],
   "source": [
    "s"
   ]
  },
  {
   "cell_type": "code",
   "execution_count": 193,
   "id": "c9961247",
   "metadata": {},
   "outputs": [],
   "source": [
    "s1={1,2,3,4}\n",
    "s2={4,5,6}"
   ]
  },
  {
   "cell_type": "code",
   "execution_count": 192,
   "id": "555f606a",
   "metadata": {},
   "outputs": [
    {
     "data": {
      "text/plain": [
       "{5, 6}"
      ]
     },
     "execution_count": 192,
     "metadata": {},
     "output_type": "execute_result"
    }
   ],
   "source": [
    "s2-s1"
   ]
  },
  {
   "cell_type": "code",
   "execution_count": 194,
   "id": "6f7b13dc",
   "metadata": {},
   "outputs": [
    {
     "data": {
      "text/plain": [
       "{1, 2, 3}"
      ]
     },
     "execution_count": 194,
     "metadata": {},
     "output_type": "execute_result"
    }
   ],
   "source": [
    "s1.difference(s2)"
   ]
  },
  {
   "cell_type": "code",
   "execution_count": 185,
   "id": "edfc6ea2",
   "metadata": {},
   "outputs": [
    {
     "data": {
      "text/plain": [
       "{1, 2, 3, 4, 5, 6}"
      ]
     },
     "execution_count": 185,
     "metadata": {},
     "output_type": "execute_result"
    }
   ],
   "source": [
    "s1.union(s2)"
   ]
  },
  {
   "cell_type": "code",
   "execution_count": 186,
   "id": "eb6ea514",
   "metadata": {},
   "outputs": [
    {
     "data": {
      "text/plain": [
       "{4}"
      ]
     },
     "execution_count": 186,
     "metadata": {},
     "output_type": "execute_result"
    }
   ],
   "source": [
    "s1.intersection(s2)"
   ]
  },
  {
   "cell_type": "code",
   "execution_count": 187,
   "id": "35a6b238",
   "metadata": {},
   "outputs": [],
   "source": [
    "s1.add(7)"
   ]
  },
  {
   "cell_type": "code",
   "execution_count": 188,
   "id": "9ee8259a",
   "metadata": {},
   "outputs": [
    {
     "data": {
      "text/plain": [
       "{1, 2, 3, 4, 7}"
      ]
     },
     "execution_count": 188,
     "metadata": {},
     "output_type": "execute_result"
    }
   ],
   "source": [
    "s1"
   ]
  },
  {
   "cell_type": "code",
   "execution_count": 189,
   "id": "ea44dc21",
   "metadata": {},
   "outputs": [
    {
     "name": "stdout",
     "output_type": "stream",
     "text": [
      "Help on built-in function difference:\n",
      "\n",
      "difference(...) method of builtins.set instance\n",
      "    Return the difference of two or more sets as a new set.\n",
      "    \n",
      "    (i.e. all elements that are in this set but not the others.)\n",
      "\n"
     ]
    }
   ],
   "source": [
    "help(s1.difference)"
   ]
  },
  {
   "cell_type": "code",
   "execution_count": null,
   "id": "ea520de9",
   "metadata": {},
   "outputs": [],
   "source": []
  }
 ],
 "metadata": {
  "kernelspec": {
   "display_name": "Python 3 (ipykernel)",
   "language": "python",
   "name": "python3"
  },
  "language_info": {
   "codemirror_mode": {
    "name": "ipython",
    "version": 3
   },
   "file_extension": ".py",
   "mimetype": "text/x-python",
   "name": "python",
   "nbconvert_exporter": "python",
   "pygments_lexer": "ipython3",
   "version": "3.10.7"
  }
 },
 "nbformat": 4,
 "nbformat_minor": 5
}
