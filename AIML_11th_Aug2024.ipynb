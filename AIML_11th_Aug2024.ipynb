{
 "cells": [
  {
   "cell_type": "code",
   "execution_count": 8,
   "id": "f664a376",
   "metadata": {},
   "outputs": [],
   "source": [
    "my_list = [1,1411,59 ,10,20,40]"
   ]
  },
  {
   "cell_type": "code",
   "execution_count": 2,
   "id": "740abac2",
   "metadata": {},
   "outputs": [
    {
     "name": "stdout",
     "output_type": "stream",
     "text": [
      "1\n",
      "1411\n",
      "59\n"
     ]
    }
   ],
   "source": [
    "for var1 in my_list :\n",
    "    print(var1)"
   ]
  },
  {
   "cell_type": "code",
   "execution_count": 3,
   "id": "2bfe3660",
   "metadata": {},
   "outputs": [
    {
     "data": {
      "text/plain": [
       "[1, 1990921, 3481]"
      ]
     },
     "execution_count": 3,
     "metadata": {},
     "output_type": "execute_result"
    }
   ],
   "source": [
    "[ var1*var1 for var1 in my_list]"
   ]
  },
  {
   "cell_type": "code",
   "execution_count": 9,
   "id": "600c8a10",
   "metadata": {},
   "outputs": [
    {
     "data": {
      "text/plain": [
       "[10, 20, 40]"
      ]
     },
     "execution_count": 9,
     "metadata": {},
     "output_type": "execute_result"
    }
   ],
   "source": [
    "[var1 for var1 in my_list if var1%2 ==0]"
   ]
  },
  {
   "cell_type": "code",
   "execution_count": 10,
   "id": "4c16bc7a",
   "metadata": {},
   "outputs": [],
   "source": [
    "my_list.append(202)"
   ]
  },
  {
   "cell_type": "code",
   "execution_count": 11,
   "id": "a212bbaf",
   "metadata": {},
   "outputs": [
    {
     "data": {
      "text/plain": [
       "[1, 1411, 59, 10, 20, 40, 202]"
      ]
     },
     "execution_count": 11,
     "metadata": {},
     "output_type": "execute_result"
    }
   ],
   "source": [
    "my_list"
   ]
  },
  {
   "cell_type": "code",
   "execution_count": 12,
   "id": "96c53574",
   "metadata": {},
   "outputs": [],
   "source": [
    "my_list.reverse()"
   ]
  },
  {
   "cell_type": "code",
   "execution_count": 13,
   "id": "07a64561",
   "metadata": {},
   "outputs": [
    {
     "data": {
      "text/plain": [
       "[202, 40, 20, 10, 59, 1411, 1]"
      ]
     },
     "execution_count": 13,
     "metadata": {},
     "output_type": "execute_result"
    }
   ],
   "source": [
    "my_list"
   ]
  },
  {
   "cell_type": "code",
   "execution_count": 14,
   "id": "a68d8d51",
   "metadata": {},
   "outputs": [
    {
     "data": {
      "text/plain": [
       "1"
      ]
     },
     "execution_count": 14,
     "metadata": {},
     "output_type": "execute_result"
    }
   ],
   "source": [
    "my_list.pop()"
   ]
  },
  {
   "cell_type": "code",
   "execution_count": 15,
   "id": "22c7da78",
   "metadata": {},
   "outputs": [
    {
     "data": {
      "text/plain": [
       "[202, 40, 20, 10, 59, 1411]"
      ]
     },
     "execution_count": 15,
     "metadata": {},
     "output_type": "execute_result"
    }
   ],
   "source": [
    "my_list"
   ]
  },
  {
   "cell_type": "code",
   "execution_count": 20,
   "id": "13318923",
   "metadata": {},
   "outputs": [],
   "source": [
    "my_list.remove(20)"
   ]
  },
  {
   "cell_type": "code",
   "execution_count": 21,
   "id": "1f2431da",
   "metadata": {},
   "outputs": [
    {
     "data": {
      "text/plain": [
       "[202, 40, 10, 59, 1411]"
      ]
     },
     "execution_count": 21,
     "metadata": {},
     "output_type": "execute_result"
    }
   ],
   "source": [
    "my_list"
   ]
  },
  {
   "cell_type": "code",
   "execution_count": 24,
   "id": "6c292ebe",
   "metadata": {},
   "outputs": [
    {
     "data": {
      "text/plain": [
       "1"
      ]
     },
     "execution_count": 24,
     "metadata": {},
     "output_type": "execute_result"
    }
   ],
   "source": [
    "my_list.index(40)"
   ]
  },
  {
   "cell_type": "code",
   "execution_count": 26,
   "id": "c12cb747",
   "metadata": {},
   "outputs": [],
   "source": [
    "my_list.insert(1,22)"
   ]
  },
  {
   "cell_type": "code",
   "execution_count": 27,
   "id": "ba568d68",
   "metadata": {},
   "outputs": [
    {
     "data": {
      "text/plain": [
       "[202, 22, 40, 10, 59, 1411]"
      ]
     },
     "execution_count": 27,
     "metadata": {},
     "output_type": "execute_result"
    }
   ],
   "source": [
    "my_list"
   ]
  },
  {
   "cell_type": "code",
   "execution_count": 28,
   "id": "be67b955",
   "metadata": {},
   "outputs": [],
   "source": [
    "my_list.append(\"sandeep\")"
   ]
  },
  {
   "cell_type": "code",
   "execution_count": 29,
   "id": "ce860d79",
   "metadata": {},
   "outputs": [
    {
     "data": {
      "text/plain": [
       "[202, 22, 40, 10, 59, 1411, 'sandeep']"
      ]
     },
     "execution_count": 29,
     "metadata": {},
     "output_type": "execute_result"
    }
   ],
   "source": [
    "my_list"
   ]
  },
  {
   "cell_type": "code",
   "execution_count": 30,
   "id": "9e45e136",
   "metadata": {},
   "outputs": [],
   "source": [
    "# flatten the list \n",
    "my_list2= [[1,3],[5,7],[2,6,7]]"
   ]
  },
  {
   "cell_type": "code",
   "execution_count": 31,
   "id": "409af409",
   "metadata": {},
   "outputs": [
    {
     "data": {
      "text/plain": [
       "[1, 3, 5, 7, 2, 6, 7]"
      ]
     },
     "execution_count": 31,
     "metadata": {},
     "output_type": "execute_result"
    }
   ],
   "source": [
    "[ num for row in my_list2 for num in row ]"
   ]
  },
  {
   "cell_type": "code",
   "execution_count": 34,
   "id": "582a1115",
   "metadata": {},
   "outputs": [
    {
     "data": {
      "text/plain": [
       "[1, 8, 27, 64, 216]"
      ]
     },
     "execution_count": 34,
     "metadata": {},
     "output_type": "execute_result"
    }
   ],
   "source": [
    "#cube of number \n",
    "num1 = [1,2,3,4,6]\n",
    "[ n1*n1*n1 for n1 in num1 ]"
   ]
  },
  {
   "cell_type": "code",
   "execution_count": 37,
   "id": "0623f038",
   "metadata": {},
   "outputs": [
    {
     "data": {
      "text/plain": [
       "[0, 1, 2, 3, 4, 5, 6, 7, 8, 9, 10, 11, 12, 13, 14, 15, 16, 17, 18, 19, 20]"
      ]
     },
     "execution_count": 37,
     "metadata": {},
     "output_type": "execute_result"
    }
   ],
   "source": [
    "# print the 0 to 20 numbers \n",
    "[i for i in range(21)]"
   ]
  },
  {
   "cell_type": "code",
   "execution_count": 42,
   "id": "8297851a",
   "metadata": {},
   "outputs": [
    {
     "data": {
      "text/plain": [
       "['a', 'b', 'c', 'd']"
      ]
     },
     "execution_count": 42,
     "metadata": {},
     "output_type": "execute_result"
    }
   ],
   "source": [
    "# create a list of first letters of given list\n",
    "words = [\"apple\", \"banana\", \"cherry\", \"date\"]\n",
    "[i[0:1] for i in words]"
   ]
  },
  {
   "cell_type": "code",
   "execution_count": 46,
   "id": "550f300a",
   "metadata": {},
   "outputs": [
    {
     "data": {
      "text/plain": [
       "[(0, 10), (1, 20), (2, 30), (3, 40)]"
      ]
     },
     "execution_count": 46,
     "metadata": {},
     "output_type": "execute_result"
    }
   ],
   "source": [
    "# create touple of given list with index and value \n",
    "numbers = [10, 20, 30, 40]\n",
    "[ (numbers.index(n1),n1) for n1 in numbers  ]"
   ]
  },
  {
   "cell_type": "code",
   "execution_count": 47,
   "id": "e4c929d8",
   "metadata": {},
   "outputs": [
    {
     "data": {
      "text/plain": [
       "[1, 2, 3, 4, 5, 6]"
      ]
     },
     "execution_count": 47,
     "metadata": {},
     "output_type": "execute_result"
    }
   ],
   "source": [
    "# flatten the given list \n",
    "matrix = [[1, 2], [3, 4], [5, 6]]\n",
    "[ l2 for l1 in matrix for l2 in l1 ]"
   ]
  },
  {
   "cell_type": "code",
   "execution_count": 52,
   "id": "af2637b2",
   "metadata": {},
   "outputs": [
    {
     "data": {
      "text/plain": [
       "[4, 2, 1, 8]"
      ]
     },
     "execution_count": 52,
     "metadata": {},
     "output_type": "execute_result"
    }
   ],
   "source": [
    "# create list of worlds of given This is a sentence\n",
    "sencence =\"This is a sentence\"\n",
    "[ len(world) for world in sencence.split() ]"
   ]
  },
  {
   "cell_type": "code",
   "execution_count": 53,
   "id": "4f82c354",
   "metadata": {},
   "outputs": [],
   "source": [
    "#  get max and min \n"
   ]
  },
  {
   "cell_type": "code",
   "execution_count": 54,
   "id": "a15c8eed",
   "metadata": {},
   "outputs": [
    {
     "data": {
      "text/plain": [
       "40"
      ]
     },
     "execution_count": 54,
     "metadata": {},
     "output_type": "execute_result"
    }
   ],
   "source": [
    "max(numbers)"
   ]
  },
  {
   "cell_type": "code",
   "execution_count": 55,
   "id": "4470ef40",
   "metadata": {},
   "outputs": [
    {
     "data": {
      "text/plain": [
       "10"
      ]
     },
     "execution_count": 55,
     "metadata": {},
     "output_type": "execute_result"
    }
   ],
   "source": [
    "min(numbers)"
   ]
  },
  {
   "cell_type": "code",
   "execution_count": 56,
   "id": "5b9dd099",
   "metadata": {},
   "outputs": [
    {
     "data": {
      "text/plain": [
       "100"
      ]
     },
     "execution_count": 56,
     "metadata": {},
     "output_type": "execute_result"
    }
   ],
   "source": [
    "sum(numbers)"
   ]
  },
  {
   "cell_type": "code",
   "execution_count": 59,
   "id": "e3e6b78c",
   "metadata": {},
   "outputs": [
    {
     "data": {
      "text/plain": [
       "['e', 'o', 'o']"
      ]
     },
     "execution_count": 59,
     "metadata": {},
     "output_type": "execute_result"
    }
   ],
   "source": [
    "#print vovels in world \"hello world\"\n",
    "world =\"hello world\"\n",
    "[c for c in world if c in \"aeiou\"]"
   ]
  },
  {
   "cell_type": "code",
   "execution_count": 58,
   "id": "727216b9",
   "metadata": {},
   "outputs": [
    {
     "data": {
      "text/plain": [
       "25.0"
      ]
     },
     "execution_count": 58,
     "metadata": {},
     "output_type": "execute_result"
    }
   ],
   "source": [
    "sum(numbers)/len(numbers)"
   ]
  },
  {
   "cell_type": "code",
   "execution_count": 60,
   "id": "d834cafb",
   "metadata": {},
   "outputs": [
    {
     "data": {
      "text/plain": [
       "[1, 9, 25]"
      ]
     },
     "execution_count": 60,
     "metadata": {},
     "output_type": "execute_result"
    }
   ],
   "source": [
    "#suqal of odd numbers \n",
    "numbers = [1, 2, 3, 4, 5]\n",
    "[num*num for num in numbers  if num%2!=0]"
   ]
  },
  {
   "cell_type": "code",
   "execution_count": 61,
   "id": "9603caf9",
   "metadata": {},
   "outputs": [
    {
     "data": {
      "text/plain": [
       "[(1, 1),\n",
       " (1, 2),\n",
       " (1, 3),\n",
       " (1, 4),\n",
       " (1, 5),\n",
       " (2, 1),\n",
       " (2, 2),\n",
       " (2, 3),\n",
       " (2, 4),\n",
       " (2, 5),\n",
       " (3, 1),\n",
       " (3, 2),\n",
       " (3, 3),\n",
       " (3, 4),\n",
       " (3, 5),\n",
       " (4, 1),\n",
       " (4, 2),\n",
       " (4, 3),\n",
       " (4, 4),\n",
       " (4, 5),\n",
       " (5, 1),\n",
       " (5, 2),\n",
       " (5, 3),\n",
       " (5, 4),\n",
       " (5, 5)]"
      ]
     },
     "execution_count": 61,
     "metadata": {},
     "output_type": "execute_result"
    }
   ],
   "source": [
    "# combination of numbers \n",
    "[(x,y) for x in numbers for y in numbers]"
   ]
  },
  {
   "cell_type": "code",
   "execution_count": 64,
   "id": "1bfbebb0",
   "metadata": {},
   "outputs": [
    {
     "data": {
      "text/plain": [
       "[(1, 2),\n",
       " (1, 3),\n",
       " (1, 4),\n",
       " (1, 5),\n",
       " (2, 1),\n",
       " (2, 3),\n",
       " (2, 4),\n",
       " (2, 5),\n",
       " (3, 1),\n",
       " (3, 2),\n",
       " (3, 4),\n",
       " (3, 5),\n",
       " (4, 1),\n",
       " (4, 2),\n",
       " (4, 3),\n",
       " (4, 5),\n",
       " (5, 1),\n",
       " (5, 2),\n",
       " (5, 3),\n",
       " (5, 4)]"
      ]
     },
     "execution_count": 64,
     "metadata": {},
     "output_type": "execute_result"
    }
   ],
   "source": [
    "# possible combinaiton \n",
    "[(x,y) for x in numbers for y in numbers if x!=y]"
   ]
  },
  {
   "cell_type": "code",
   "execution_count": 65,
   "id": "8cfcca2c",
   "metadata": {},
   "outputs": [],
   "source": [
    "# append add elment in the end of the list \n",
    "numbers.append(2022)"
   ]
  },
  {
   "cell_type": "code",
   "execution_count": 66,
   "id": "630619ec",
   "metadata": {},
   "outputs": [
    {
     "data": {
      "text/plain": [
       "[1, 2, 3, 4, 5, 2022]"
      ]
     },
     "execution_count": 66,
     "metadata": {},
     "output_type": "execute_result"
    }
   ],
   "source": [
    "numbers"
   ]
  },
  {
   "cell_type": "code",
   "execution_count": 67,
   "id": "0d71d741",
   "metadata": {},
   "outputs": [],
   "source": [
    "#  inset number as o index \n",
    "numbers.insert(2,2014)"
   ]
  },
  {
   "cell_type": "code",
   "execution_count": 68,
   "id": "4359f166",
   "metadata": {},
   "outputs": [
    {
     "data": {
      "text/plain": [
       "[1, 2, 2014, 3, 4, 5, 2022]"
      ]
     },
     "execution_count": 68,
     "metadata": {},
     "output_type": "execute_result"
    }
   ],
   "source": [
    "numbers"
   ]
  },
  {
   "cell_type": "code",
   "execution_count": 71,
   "id": "e91e306d",
   "metadata": {},
   "outputs": [],
   "source": [
    "numbers.remove(1)"
   ]
  },
  {
   "cell_type": "code",
   "execution_count": 72,
   "id": "48d15974",
   "metadata": {},
   "outputs": [
    {
     "data": {
      "text/plain": [
       "[2, 2014, 3, 4, 5, 2022]"
      ]
     },
     "execution_count": 72,
     "metadata": {},
     "output_type": "execute_result"
    }
   ],
   "source": [
    "numbers"
   ]
  },
  {
   "cell_type": "code",
   "execution_count": 73,
   "id": "2093ffcb",
   "metadata": {},
   "outputs": [
    {
     "name": "stdout",
     "output_type": "stream",
     "text": [
      "Help on built-in function remove:\n",
      "\n",
      "remove(value, /) method of builtins.list instance\n",
      "    Remove first occurrence of value.\n",
      "    \n",
      "    Raises ValueError if the value is not present.\n",
      "\n"
     ]
    }
   ],
   "source": [
    "help(numbers.remove)"
   ]
  },
  {
   "cell_type": "code",
   "execution_count": 74,
   "id": "5199efec",
   "metadata": {},
   "outputs": [
    {
     "name": "stdout",
     "output_type": "stream",
     "text": [
      "Help on built-in function sort:\n",
      "\n",
      "sort(*, key=None, reverse=False) method of builtins.list instance\n",
      "    Sort the list in ascending order and return None.\n",
      "    \n",
      "    The sort is in-place (i.e. the list itself is modified) and stable (i.e. the\n",
      "    order of two equal elements is maintained).\n",
      "    \n",
      "    If a key function is given, apply it once to each list item and sort them,\n",
      "    ascending or descending, according to their function values.\n",
      "    \n",
      "    The reverse flag can be set to sort in descending order.\n",
      "\n"
     ]
    }
   ],
   "source": [
    "help(numbers.sort)"
   ]
  },
  {
   "cell_type": "code",
   "execution_count": 75,
   "id": "fb9e6b8a",
   "metadata": {},
   "outputs": [],
   "source": [
    "numbers.reverse()"
   ]
  },
  {
   "cell_type": "code",
   "execution_count": 76,
   "id": "558962b0",
   "metadata": {},
   "outputs": [
    {
     "data": {
      "text/plain": [
       "[2022, 5, 4, 3, 2014, 2]"
      ]
     },
     "execution_count": 76,
     "metadata": {},
     "output_type": "execute_result"
    }
   ],
   "source": [
    "numbers"
   ]
  },
  {
   "cell_type": "code",
   "execution_count": 79,
   "id": "2261ae2b",
   "metadata": {},
   "outputs": [],
   "source": [
    "numbers.sort()"
   ]
  },
  {
   "cell_type": "code",
   "execution_count": 83,
   "id": "44ed4ed3",
   "metadata": {},
   "outputs": [
    {
     "data": {
      "text/plain": [
       "[2, 3, 4, 5, 2014, 2022]"
      ]
     },
     "execution_count": 83,
     "metadata": {},
     "output_type": "execute_result"
    }
   ],
   "source": [
    "numbers.sort(reverse=False)\n",
    "numbers"
   ]
  },
  {
   "cell_type": "code",
   "execution_count": 84,
   "id": "ee1fd0ef",
   "metadata": {},
   "outputs": [],
   "source": [
    "numbers.extend(numbers)"
   ]
  },
  {
   "cell_type": "code",
   "execution_count": 85,
   "id": "346ca52f",
   "metadata": {},
   "outputs": [
    {
     "data": {
      "text/plain": [
       "[2, 3, 4, 5, 2014, 2022, 2, 3, 4, 5, 2014, 2022]"
      ]
     },
     "execution_count": 85,
     "metadata": {},
     "output_type": "execute_result"
    }
   ],
   "source": [
    "numbers"
   ]
  },
  {
   "cell_type": "code",
   "execution_count": 86,
   "id": "0e7ab628",
   "metadata": {},
   "outputs": [],
   "source": [
    "# remove all the elements from then list\n",
    "numbers.clear()"
   ]
  },
  {
   "cell_type": "code",
   "execution_count": 87,
   "id": "435d3ee6",
   "metadata": {},
   "outputs": [
    {
     "data": {
      "text/plain": [
       "[]"
      ]
     },
     "execution_count": 87,
     "metadata": {},
     "output_type": "execute_result"
    }
   ],
   "source": [
    "numbers"
   ]
  },
  {
   "cell_type": "code",
   "execution_count": 91,
   "id": "a07e0aaf",
   "metadata": {},
   "outputs": [],
   "source": [
    "ls =[11,2,3,4,4,4,6,]"
   ]
  },
  {
   "cell_type": "code",
   "execution_count": 93,
   "id": "7a1fdde4",
   "metadata": {},
   "outputs": [
    {
     "data": {
      "text/plain": [
       "3"
      ]
     },
     "execution_count": 93,
     "metadata": {},
     "output_type": "execute_result"
    }
   ],
   "source": [
    "#  count is used to check how many times input element has been added in list\n",
    "ls.count(4)"
   ]
  },
  {
   "cell_type": "code",
   "execution_count": null,
   "id": "92976522",
   "metadata": {},
   "outputs": [],
   "source": []
  }
 ],
 "metadata": {
  "kernelspec": {
   "display_name": "Python 3 (ipykernel)",
   "language": "python",
   "name": "python3"
  },
  "language_info": {
   "codemirror_mode": {
    "name": "ipython",
    "version": 3
   },
   "file_extension": ".py",
   "mimetype": "text/x-python",
   "name": "python",
   "nbconvert_exporter": "python",
   "pygments_lexer": "ipython3",
   "version": "3.10.7"
  }
 },
 "nbformat": 4,
 "nbformat_minor": 5
}
