{
 "cells": [
  {
   "cell_type": "code",
   "execution_count": 8,
   "id": "e8dfa6bc",
   "metadata": {},
   "outputs": [],
   "source": [
    "my_list = [1,1411,59 ,10,20,40]"
   ]
  },
  {
   "cell_type": "code",
   "execution_count": 2,
   "id": "174c8afc",
   "metadata": {},
   "outputs": [
    {
     "name": "stdout",
     "output_type": "stream",
     "text": [
      "1\n",
      "1411\n",
      "59\n"
     ]
    }
   ],
   "source": [
    "for var1 in my_list :\n",
    "    print(var1)"
   ]
  },
  {
   "cell_type": "code",
   "execution_count": 3,
   "id": "e08e56e4",
   "metadata": {},
   "outputs": [
    {
     "data": {
      "text/plain": [
       "[1, 1990921, 3481]"
      ]
     },
     "execution_count": 3,
     "metadata": {},
     "output_type": "execute_result"
    }
   ],
   "source": [
    "[ var1*var1 for var1 in my_list]"
   ]
  },
  {
   "cell_type": "code",
   "execution_count": 9,
   "id": "cc7e7d5f",
   "metadata": {},
   "outputs": [
    {
     "data": {
      "text/plain": [
       "[10, 20, 40]"
      ]
     },
     "execution_count": 9,
     "metadata": {},
     "output_type": "execute_result"
    }
   ],
   "source": [
    "[var1 for var1 in my_list if var1%2 ==0]"
   ]
  },
  {
   "cell_type": "code",
   "execution_count": 10,
   "id": "492e6d2f",
   "metadata": {},
   "outputs": [],
   "source": [
    "my_list.append(202)"
   ]
  },
  {
   "cell_type": "code",
   "execution_count": 11,
   "id": "718b0928",
   "metadata": {},
   "outputs": [
    {
     "data": {
      "text/plain": [
       "[1, 1411, 59, 10, 20, 40, 202]"
      ]
     },
     "execution_count": 11,
     "metadata": {},
     "output_type": "execute_result"
    }
   ],
   "source": [
    "my_list"
   ]
  },
  {
   "cell_type": "code",
   "execution_count": 12,
   "id": "d679bce7",
   "metadata": {},
   "outputs": [],
   "source": [
    "my_list.reverse()"
   ]
  },
  {
   "cell_type": "code",
   "execution_count": 13,
   "id": "55e5ddd2",
   "metadata": {},
   "outputs": [
    {
     "data": {
      "text/plain": [
       "[202, 40, 20, 10, 59, 1411, 1]"
      ]
     },
     "execution_count": 13,
     "metadata": {},
     "output_type": "execute_result"
    }
   ],
   "source": [
    "my_list"
   ]
  },
  {
   "cell_type": "code",
   "execution_count": 14,
   "id": "6b723aa9",
   "metadata": {},
   "outputs": [
    {
     "data": {
      "text/plain": [
       "1"
      ]
     },
     "execution_count": 14,
     "metadata": {},
     "output_type": "execute_result"
    }
   ],
   "source": [
    "my_list.pop()"
   ]
  },
  {
   "cell_type": "code",
   "execution_count": 15,
   "id": "d3b93de2",
   "metadata": {},
   "outputs": [
    {
     "data": {
      "text/plain": [
       "[202, 40, 20, 10, 59, 1411]"
      ]
     },
     "execution_count": 15,
     "metadata": {},
     "output_type": "execute_result"
    }
   ],
   "source": [
    "my_list"
   ]
  },
  {
   "cell_type": "code",
   "execution_count": 20,
   "id": "9da2a3a6",
   "metadata": {},
   "outputs": [],
   "source": [
    "my_list.remove(20)"
   ]
  },
  {
   "cell_type": "code",
   "execution_count": 21,
   "id": "ff130feb",
   "metadata": {},
   "outputs": [
    {
     "data": {
      "text/plain": [
       "[202, 40, 10, 59, 1411]"
      ]
     },
     "execution_count": 21,
     "metadata": {},
     "output_type": "execute_result"
    }
   ],
   "source": [
    "my_list"
   ]
  },
  {
   "cell_type": "code",
   "execution_count": 24,
   "id": "ab48507b",
   "metadata": {},
   "outputs": [
    {
     "data": {
      "text/plain": [
       "1"
      ]
     },
     "execution_count": 24,
     "metadata": {},
     "output_type": "execute_result"
    }
   ],
   "source": [
    "my_list.index(40)"
   ]
  },
  {
   "cell_type": "code",
   "execution_count": 26,
   "id": "43dc42e1",
   "metadata": {},
   "outputs": [],
   "source": [
    "my_list.insert(1,22)"
   ]
  },
  {
   "cell_type": "code",
   "execution_count": 27,
   "id": "f351ab96",
   "metadata": {},
   "outputs": [
    {
     "data": {
      "text/plain": [
       "[202, 22, 40, 10, 59, 1411]"
      ]
     },
     "execution_count": 27,
     "metadata": {},
     "output_type": "execute_result"
    }
   ],
   "source": [
    "my_list"
   ]
  },
  {
   "cell_type": "code",
   "execution_count": 28,
   "id": "08f4c271",
   "metadata": {},
   "outputs": [],
   "source": [
    "my_list.append(\"sandeep\")"
   ]
  },
  {
   "cell_type": "code",
   "execution_count": 29,
   "id": "d5ecf9d1",
   "metadata": {},
   "outputs": [
    {
     "data": {
      "text/plain": [
       "[202, 22, 40, 10, 59, 1411, 'sandeep']"
      ]
     },
     "execution_count": 29,
     "metadata": {},
     "output_type": "execute_result"
    }
   ],
   "source": [
    "my_list"
   ]
  },
  {
   "cell_type": "code",
   "execution_count": 30,
   "id": "8180bb3f",
   "metadata": {},
   "outputs": [],
   "source": [
    "# flatten the list \n",
    "my_list2= [[1,3],[5,7],[2,6,7]]"
   ]
  },
  {
   "cell_type": "code",
   "execution_count": 31,
   "id": "24c38e08",
   "metadata": {},
   "outputs": [
    {
     "data": {
      "text/plain": [
       "[1, 3, 5, 7, 2, 6, 7]"
      ]
     },
     "execution_count": 31,
     "metadata": {},
     "output_type": "execute_result"
    }
   ],
   "source": [
    "[ num for row in my_list2 for num in row ]"
   ]
  },
  {
   "cell_type": "code",
   "execution_count": 34,
   "id": "b1340662",
   "metadata": {},
   "outputs": [
    {
     "data": {
      "text/plain": [
       "[1, 8, 27, 64, 216]"
      ]
     },
     "execution_count": 34,
     "metadata": {},
     "output_type": "execute_result"
    }
   ],
   "source": [
    "#cube of number \n",
    "num1 = [1,2,3,4,6]\n",
    "[ n1*n1*n1 for n1 in num1 ]"
   ]
  },
  {
   "cell_type": "code",
   "execution_count": 37,
   "id": "b9df45fb",
   "metadata": {},
   "outputs": [
    {
     "data": {
      "text/plain": [
       "[0, 1, 2, 3, 4, 5, 6, 7, 8, 9, 10, 11, 12, 13, 14, 15, 16, 17, 18, 19, 20]"
      ]
     },
     "execution_count": 37,
     "metadata": {},
     "output_type": "execute_result"
    }
   ],
   "source": [
    "# print the 0 to 20 numbers \n",
    "[i for i in range(21)]"
   ]
  },
  {
   "cell_type": "code",
   "execution_count": 42,
   "id": "cfe420b5",
   "metadata": {},
   "outputs": [
    {
     "data": {
      "text/plain": [
       "['a', 'b', 'c', 'd']"
      ]
     },
     "execution_count": 42,
     "metadata": {},
     "output_type": "execute_result"
    }
   ],
   "source": [
    "# create a list of first letters of given list\n",
    "words = [\"apple\", \"banana\", \"cherry\", \"date\"]\n",
    "[i[0:1] for i in words]"
   ]
  },
  {
   "cell_type": "code",
   "execution_count": 46,
   "id": "dcbb3b51",
   "metadata": {},
   "outputs": [
    {
     "data": {
      "text/plain": [
       "[(0, 10), (1, 20), (2, 30), (3, 40)]"
      ]
     },
     "execution_count": 46,
     "metadata": {},
     "output_type": "execute_result"
    }
   ],
   "source": [
    "# create touple of given list with index and value \n",
    "numbers = [10, 20, 30, 40]\n",
    "[ (numbers.index(n1),n1) for n1 in numbers  ]"
   ]
  },
  {
   "cell_type": "code",
   "execution_count": 47,
   "id": "58a89eac",
   "metadata": {},
   "outputs": [
    {
     "data": {
      "text/plain": [
       "[1, 2, 3, 4, 5, 6]"
      ]
     },
     "execution_count": 47,
     "metadata": {},
     "output_type": "execute_result"
    }
   ],
   "source": [
    "# flatten the given list \n",
    "matrix = [[1, 2], [3, 4], [5, 6]]\n",
    "[ l2 for l1 in matrix for l2 in l1 ]"
   ]
  },
  {
   "cell_type": "code",
   "execution_count": 52,
   "id": "8addbe9a",
   "metadata": {},
   "outputs": [
    {
     "data": {
      "text/plain": [
       "[4, 2, 1, 8]"
      ]
     },
     "execution_count": 52,
     "metadata": {},
     "output_type": "execute_result"
    }
   ],
   "source": [
    "# create list of worlds of given This is a sentence\n",
    "sencence =\"This is a sentence\"\n",
    "[ len(world) for world in sencence.split() ]"
   ]
  },
  {
   "cell_type": "code",
   "execution_count": 53,
   "id": "0cacf968",
   "metadata": {},
   "outputs": [],
   "source": [
    "#  get max and min \n"
   ]
  },
  {
   "cell_type": "code",
   "execution_count": 54,
   "id": "e20bb284",
   "metadata": {},
   "outputs": [
    {
     "data": {
      "text/plain": [
       "40"
      ]
     },
     "execution_count": 54,
     "metadata": {},
     "output_type": "execute_result"
    }
   ],
   "source": [
    "max(numbers)"
   ]
  },
  {
   "cell_type": "code",
   "execution_count": 55,
   "id": "bccd9763",
   "metadata": {},
   "outputs": [
    {
     "data": {
      "text/plain": [
       "10"
      ]
     },
     "execution_count": 55,
     "metadata": {},
     "output_type": "execute_result"
    }
   ],
   "source": [
    "min(numbers)"
   ]
  },
  {
   "cell_type": "code",
   "execution_count": 56,
   "id": "ee431a4c",
   "metadata": {},
   "outputs": [
    {
     "data": {
      "text/plain": [
       "100"
      ]
     },
     "execution_count": 56,
     "metadata": {},
     "output_type": "execute_result"
    }
   ],
   "source": [
    "sum(numbers)"
   ]
  },
  {
   "cell_type": "code",
   "execution_count": 59,
   "id": "a01cba0e",
   "metadata": {},
   "outputs": [
    {
     "data": {
      "text/plain": [
       "['e', 'o', 'o']"
      ]
     },
     "execution_count": 59,
     "metadata": {},
     "output_type": "execute_result"
    }
   ],
   "source": [
    "#print vovels in world \"hello world\"\n",
    "world =\"hello world\"\n",
    "[c for c in world if c in \"aeiou\"]"
   ]
  },
  {
   "cell_type": "code",
   "execution_count": 58,
   "id": "8658c946",
   "metadata": {},
   "outputs": [
    {
     "data": {
      "text/plain": [
       "25.0"
      ]
     },
     "execution_count": 58,
     "metadata": {},
     "output_type": "execute_result"
    }
   ],
   "source": [
    "sum(numbers)/len(numbers)"
   ]
  },
  {
   "cell_type": "code",
   "execution_count": 60,
   "id": "b8e5b5a6",
   "metadata": {},
   "outputs": [
    {
     "data": {
      "text/plain": [
       "[1, 9, 25]"
      ]
     },
     "execution_count": 60,
     "metadata": {},
     "output_type": "execute_result"
    }
   ],
   "source": [
    "#suqal of odd numbers \n",
    "numbers = [1, 2, 3, 4, 5]\n",
    "[num*num for num in numbers  if num%2!=0]"
   ]
  },
  {
   "cell_type": "code",
   "execution_count": 61,
   "id": "5ba89580",
   "metadata": {},
   "outputs": [
    {
     "data": {
      "text/plain": [
       "[(1, 1),\n",
       " (1, 2),\n",
       " (1, 3),\n",
       " (1, 4),\n",
       " (1, 5),\n",
       " (2, 1),\n",
       " (2, 2),\n",
       " (2, 3),\n",
       " (2, 4),\n",
       " (2, 5),\n",
       " (3, 1),\n",
       " (3, 2),\n",
       " (3, 3),\n",
       " (3, 4),\n",
       " (3, 5),\n",
       " (4, 1),\n",
       " (4, 2),\n",
       " (4, 3),\n",
       " (4, 4),\n",
       " (4, 5),\n",
       " (5, 1),\n",
       " (5, 2),\n",
       " (5, 3),\n",
       " (5, 4),\n",
       " (5, 5)]"
      ]
     },
     "execution_count": 61,
     "metadata": {},
     "output_type": "execute_result"
    }
   ],
   "source": [
    "# combination of numbers \n",
    "[(x,y) for x in numbers for y in numbers]"
   ]
  },
  {
   "cell_type": "code",
   "execution_count": 64,
   "id": "2143c592",
   "metadata": {},
   "outputs": [
    {
     "data": {
      "text/plain": [
       "[(1, 2),\n",
       " (1, 3),\n",
       " (1, 4),\n",
       " (1, 5),\n",
       " (2, 1),\n",
       " (2, 3),\n",
       " (2, 4),\n",
       " (2, 5),\n",
       " (3, 1),\n",
       " (3, 2),\n",
       " (3, 4),\n",
       " (3, 5),\n",
       " (4, 1),\n",
       " (4, 2),\n",
       " (4, 3),\n",
       " (4, 5),\n",
       " (5, 1),\n",
       " (5, 2),\n",
       " (5, 3),\n",
       " (5, 4)]"
      ]
     },
     "execution_count": 64,
     "metadata": {},
     "output_type": "execute_result"
    }
   ],
   "source": [
    "# possible combinaiton \n",
    "[(x,y) for x in numbers for y in numbers if x!=y]"
   ]
  },
  {
   "cell_type": "code",
   "execution_count": 65,
   "id": "0470e692",
   "metadata": {},
   "outputs": [],
   "source": [
    "# append add elment in the end of the list \n",
    "numbers.append(2022)"
   ]
  },
  {
   "cell_type": "code",
   "execution_count": 66,
   "id": "3b2c5c62",
   "metadata": {},
   "outputs": [
    {
     "data": {
      "text/plain": [
       "[1, 2, 3, 4, 5, 2022]"
      ]
     },
     "execution_count": 66,
     "metadata": {},
     "output_type": "execute_result"
    }
   ],
   "source": [
    "numbers"
   ]
  },
  {
   "cell_type": "code",
   "execution_count": 67,
   "id": "65d6a96b",
   "metadata": {},
   "outputs": [],
   "source": [
    "#  inset number as o index \n",
    "numbers.insert(2,2014)"
   ]
  },
  {
   "cell_type": "code",
   "execution_count": 68,
   "id": "bb905290",
   "metadata": {},
   "outputs": [
    {
     "data": {
      "text/plain": [
       "[1, 2, 2014, 3, 4, 5, 2022]"
      ]
     },
     "execution_count": 68,
     "metadata": {},
     "output_type": "execute_result"
    }
   ],
   "source": [
    "numbers"
   ]
  },
  {
   "cell_type": "code",
   "execution_count": 71,
   "id": "b7be4445",
   "metadata": {},
   "outputs": [],
   "source": [
    "numbers.remove(1)"
   ]
  },
  {
   "cell_type": "code",
   "execution_count": 72,
   "id": "9d7b4783",
   "metadata": {},
   "outputs": [
    {
     "data": {
      "text/plain": [
       "[2, 2014, 3, 4, 5, 2022]"
      ]
     },
     "execution_count": 72,
     "metadata": {},
     "output_type": "execute_result"
    }
   ],
   "source": [
    "numbers"
   ]
  },
  {
   "cell_type": "code",
   "execution_count": 73,
   "id": "498c7a33",
   "metadata": {},
   "outputs": [
    {
     "name": "stdout",
     "output_type": "stream",
     "text": [
      "Help on built-in function remove:\n",
      "\n",
      "remove(value, /) method of builtins.list instance\n",
      "    Remove first occurrence of value.\n",
      "    \n",
      "    Raises ValueError if the value is not present.\n",
      "\n"
     ]
    }
   ],
   "source": [
    "help(numbers.remove)"
   ]
  },
  {
   "cell_type": "code",
   "execution_count": 74,
   "id": "2e7e889c",
   "metadata": {},
   "outputs": [
    {
     "name": "stdout",
     "output_type": "stream",
     "text": [
      "Help on built-in function sort:\n",
      "\n",
      "sort(*, key=None, reverse=False) method of builtins.list instance\n",
      "    Sort the list in ascending order and return None.\n",
      "    \n",
      "    The sort is in-place (i.e. the list itself is modified) and stable (i.e. the\n",
      "    order of two equal elements is maintained).\n",
      "    \n",
      "    If a key function is given, apply it once to each list item and sort them,\n",
      "    ascending or descending, according to their function values.\n",
      "    \n",
      "    The reverse flag can be set to sort in descending order.\n",
      "\n"
     ]
    }
   ],
   "source": [
    "help(numbers.sort)"
   ]
  },
  {
   "cell_type": "code",
   "execution_count": 75,
   "id": "5773d544",
   "metadata": {},
   "outputs": [],
   "source": [
    "numbers.reverse()"
   ]
  },
  {
   "cell_type": "code",
   "execution_count": 76,
   "id": "013b0554",
   "metadata": {},
   "outputs": [
    {
     "data": {
      "text/plain": [
       "[2022, 5, 4, 3, 2014, 2]"
      ]
     },
     "execution_count": 76,
     "metadata": {},
     "output_type": "execute_result"
    }
   ],
   "source": [
    "numbers"
   ]
  },
  {
   "cell_type": "code",
   "execution_count": 79,
   "id": "8d7aee83",
   "metadata": {},
   "outputs": [],
   "source": [
    "numbers.sort()"
   ]
  },
  {
   "cell_type": "code",
   "execution_count": 83,
   "id": "d4c00370",
   "metadata": {},
   "outputs": [
    {
     "data": {
      "text/plain": [
       "[2, 3, 4, 5, 2014, 2022]"
      ]
     },
     "execution_count": 83,
     "metadata": {},
     "output_type": "execute_result"
    }
   ],
   "source": [
    "numbers.sort(reverse=False)\n",
    "numbers"
   ]
  },
  {
   "cell_type": "code",
   "execution_count": 84,
   "id": "d9f19489",
   "metadata": {},
   "outputs": [],
   "source": [
    "numbers.extend(numbers)"
   ]
  },
  {
   "cell_type": "code",
   "execution_count": 85,
   "id": "492f6c94",
   "metadata": {},
   "outputs": [
    {
     "data": {
      "text/plain": [
       "[2, 3, 4, 5, 2014, 2022, 2, 3, 4, 5, 2014, 2022]"
      ]
     },
     "execution_count": 85,
     "metadata": {},
     "output_type": "execute_result"
    }
   ],
   "source": [
    "numbers"
   ]
  },
  {
   "cell_type": "code",
   "execution_count": 86,
   "id": "919dd1ea",
   "metadata": {},
   "outputs": [],
   "source": [
    "# remove all the elements from then list\n",
    "numbers.clear()"
   ]
  },
  {
   "cell_type": "code",
   "execution_count": 87,
   "id": "978febc0",
   "metadata": {},
   "outputs": [
    {
     "data": {
      "text/plain": [
       "[]"
      ]
     },
     "execution_count": 87,
     "metadata": {},
     "output_type": "execute_result"
    }
   ],
   "source": [
    "numbers"
   ]
  },
  {
   "cell_type": "code",
   "execution_count": 91,
   "id": "e805e5b1",
   "metadata": {},
   "outputs": [],
   "source": [
    "ls =[11,2,3,4,4,4,6,]"
   ]
  },
  {
   "cell_type": "code",
   "execution_count": 93,
   "id": "d1286bc6",
   "metadata": {},
   "outputs": [
    {
     "data": {
      "text/plain": [
       "3"
      ]
     },
     "execution_count": 93,
     "metadata": {},
     "output_type": "execute_result"
    }
   ],
   "source": [
    "#  count is used to check how many times input element has been added in list\n",
    "ls.count(4)"
   ]
  },
  {
   "cell_type": "code",
   "execution_count": 94,
   "id": "d8154192",
   "metadata": {},
   "outputs": [
    {
     "data": {
      "text/plain": [
       "[11, 2, 3, 4, 4, 4, 6]"
      ]
     },
     "execution_count": 94,
     "metadata": {},
     "output_type": "execute_result"
    }
   ],
   "source": [
    "ls"
   ]
  },
  {
   "cell_type": "code",
   "execution_count": 96,
   "id": "c93696f6",
   "metadata": {},
   "outputs": [],
   "source": [
    "# create dict \n",
    "my_dict ={\"name\":\"sandeep\",\"age\":30}"
   ]
  },
  {
   "cell_type": "code",
   "execution_count": 97,
   "id": "d9e36132",
   "metadata": {},
   "outputs": [
    {
     "data": {
      "text/plain": [
       "{'name': 'sandeep', 'age': 30}"
      ]
     },
     "execution_count": 97,
     "metadata": {},
     "output_type": "execute_result"
    }
   ],
   "source": [
    "my_dict"
   ]
  },
  {
   "cell_type": "code",
   "execution_count": 98,
   "id": "8ef5f4f6",
   "metadata": {},
   "outputs": [
    {
     "data": {
      "text/plain": [
       "dict_keys(['name', 'age'])"
      ]
     },
     "execution_count": 98,
     "metadata": {},
     "output_type": "execute_result"
    }
   ],
   "source": [
    "my_dict.keys()"
   ]
  },
  {
   "cell_type": "code",
   "execution_count": 99,
   "id": "478395ba",
   "metadata": {},
   "outputs": [
    {
     "data": {
      "text/plain": [
       "dict_values(['sandeep', 30])"
      ]
     },
     "execution_count": 99,
     "metadata": {},
     "output_type": "execute_result"
    }
   ],
   "source": [
    "my_dict.values()"
   ]
  },
  {
   "cell_type": "code",
   "execution_count": 100,
   "id": "7b2b5955",
   "metadata": {},
   "outputs": [],
   "source": [
    "my_dict[\"age\"]=20"
   ]
  },
  {
   "cell_type": "code",
   "execution_count": 101,
   "id": "af1a0c76",
   "metadata": {},
   "outputs": [
    {
     "data": {
      "text/plain": [
       "{'name': 'sandeep', 'age': 20}"
      ]
     },
     "execution_count": 101,
     "metadata": {},
     "output_type": "execute_result"
    }
   ],
   "source": [
    "my_dict"
   ]
  },
  {
   "cell_type": "code",
   "execution_count": 102,
   "id": "6f8d4cca",
   "metadata": {},
   "outputs": [],
   "source": [
    "del my_dict[\"age\"]"
   ]
  },
  {
   "cell_type": "code",
   "execution_count": 103,
   "id": "20957b5b",
   "metadata": {},
   "outputs": [
    {
     "data": {
      "text/plain": [
       "{'name': 'sandeep'}"
      ]
     },
     "execution_count": 103,
     "metadata": {},
     "output_type": "execute_result"
    }
   ],
   "source": [
    "my_dict"
   ]
  },
  {
   "cell_type": "code",
   "execution_count": 104,
   "id": "fb171de8",
   "metadata": {},
   "outputs": [
    {
     "name": "stdout",
     "output_type": "stream",
     "text": [
      "Help on built-in function get:\n",
      "\n",
      "get(key, default=None, /) method of builtins.dict instance\n",
      "    Return the value for key if key is in the dictionary, else default.\n",
      "\n"
     ]
    }
   ],
   "source": [
    "help(my_dict.get)"
   ]
  },
  {
   "cell_type": "code",
   "execution_count": 109,
   "id": "36bc595d",
   "metadata": {},
   "outputs": [
    {
     "data": {
      "text/plain": [
       "'congrats'"
      ]
     },
     "execution_count": 109,
     "metadata": {},
     "output_type": "execute_result"
    }
   ],
   "source": [
    "my_dict.get(\"name1\",\"congrats\")"
   ]
  },
  {
   "cell_type": "code",
   "execution_count": 110,
   "id": "1f038f3b",
   "metadata": {},
   "outputs": [],
   "source": [
    "my_dict.update(my_dict)"
   ]
  },
  {
   "cell_type": "code",
   "execution_count": 112,
   "id": "004079ba",
   "metadata": {},
   "outputs": [],
   "source": [
    "my_dict2= {\"age\":20}"
   ]
  },
  {
   "cell_type": "code",
   "execution_count": 113,
   "id": "4555da75",
   "metadata": {},
   "outputs": [],
   "source": [
    "my_dict.update(my_dict2)"
   ]
  },
  {
   "cell_type": "code",
   "execution_count": 114,
   "id": "9417e14b",
   "metadata": {},
   "outputs": [
    {
     "data": {
      "text/plain": [
       "{'name': 'sandeep', 'age': 20}"
      ]
     },
     "execution_count": 114,
     "metadata": {},
     "output_type": "execute_result"
    }
   ],
   "source": [
    "my_dict"
   ]
  },
  {
   "cell_type": "code",
   "execution_count": 125,
   "id": "8ea89787",
   "metadata": {},
   "outputs": [
    {
     "data": {
      "text/plain": [
       "{'age': 10}"
      ]
     },
     "execution_count": 125,
     "metadata": {},
     "output_type": "execute_result"
    }
   ],
   "source": [
    "my_dict2= {\"age\":10}\n",
    "my_dict2"
   ]
  },
  {
   "cell_type": "markdown",
   "id": "f355d30f",
   "metadata": {},
   "source": [
    " "
   ]
  },
  {
   "cell_type": "code",
   "execution_count": 116,
   "id": "40631fd9",
   "metadata": {},
   "outputs": [],
   "source": [
    "my_dict.update(my_dict3)"
   ]
  },
  {
   "cell_type": "code",
   "execution_count": 126,
   "id": "0fac3c45",
   "metadata": {},
   "outputs": [
    {
     "data": {
      "text/plain": [
       "{'age': 10}"
      ]
     },
     "execution_count": 126,
     "metadata": {},
     "output_type": "execute_result"
    }
   ],
   "source": [
    "my_dict3"
   ]
  },
  {
   "cell_type": "code",
   "execution_count": 122,
   "id": "e47319df",
   "metadata": {},
   "outputs": [],
   "source": [
    "my_dict3.update(my_dict2)"
   ]
  },
  {
   "cell_type": "code",
   "execution_count": 123,
   "id": "7568f452",
   "metadata": {},
   "outputs": [
    {
     "data": {
      "text/plain": [
       "{'name': 'sandeep', 'age': 30}"
      ]
     },
     "execution_count": 123,
     "metadata": {},
     "output_type": "execute_result"
    }
   ],
   "source": [
    "my_dict"
   ]
  },
  {
   "cell_type": "code",
   "execution_count": 127,
   "id": "1a130fc3",
   "metadata": {},
   "outputs": [],
   "source": [
    "nested_person = {'first_name': 'Gopal', 'last_name': 'Verma', 'age': 30, 'gender': 'Male', 'address': {'street': '2nd Main Road', 'city': 'Bengaluru', 'state': 'Karnataka', 'zip_code': 56873}, 'email': 'gopalverma@upgradlearn.com', 'phone': [21218765,131243435], 'is_employed': True}\n"
   ]
  },
  {
   "cell_type": "code",
   "execution_count": 128,
   "id": "27b18a05",
   "metadata": {},
   "outputs": [
    {
     "data": {
      "text/plain": [
       "{'first_name': 'Gopal',\n",
       " 'last_name': 'Verma',\n",
       " 'age': 30,\n",
       " 'gender': 'Male',\n",
       " 'address': {'street': '2nd Main Road',\n",
       "  'city': 'Bengaluru',\n",
       "  'state': 'Karnataka',\n",
       "  'zip_code': 56873},\n",
       " 'email': 'gopalverma@upgradlearn.com',\n",
       " 'phone': [21218765, 131243435],\n",
       " 'is_employed': True}"
      ]
     },
     "execution_count": 128,
     "metadata": {},
     "output_type": "execute_result"
    }
   ],
   "source": [
    "nested_person"
   ]
  },
  {
   "cell_type": "code",
   "execution_count": 131,
   "id": "a2927219",
   "metadata": {},
   "outputs": [
    {
     "data": {
      "text/plain": [
       "'Bengaluru'"
      ]
     },
     "execution_count": 131,
     "metadata": {},
     "output_type": "execute_result"
    }
   ],
   "source": [
    "nested_person[\"address\"][\"city\"]"
   ]
  },
  {
   "cell_type": "code",
   "execution_count": 139,
   "id": "340f10b8",
   "metadata": {},
   "outputs": [],
   "source": [
    "d1={\"a\":1,\"b\":2}\n",
    "d2={\"b\":3,\"d\":4}"
   ]
  },
  {
   "cell_type": "code",
   "execution_count": 137,
   "id": "96ab5350",
   "metadata": {},
   "outputs": [],
   "source": [
    "d2.update(d1)"
   ]
  },
  {
   "cell_type": "code",
   "execution_count": 138,
   "id": "1d7ceb43",
   "metadata": {},
   "outputs": [
    {
     "data": {
      "text/plain": [
       "{'b': 2, 'd': 4, 'a': 1}"
      ]
     },
     "execution_count": 138,
     "metadata": {},
     "output_type": "execute_result"
    }
   ],
   "source": [
    "d2"
   ]
  },
  {
   "cell_type": "code",
   "execution_count": 140,
   "id": "f31d1bbc",
   "metadata": {},
   "outputs": [
    {
     "ename": "TypeError",
     "evalue": "pop expected at least 1 argument, got 0",
     "output_type": "error",
     "traceback": [
      "\u001b[0;31m---------------------------------------------------------------------------\u001b[0m",
      "\u001b[0;31mTypeError\u001b[0m                                 Traceback (most recent call last)",
      "Cell \u001b[0;32mIn [140], line 1\u001b[0m\n\u001b[0;32m----> 1\u001b[0m \u001b[43md1\u001b[49m\u001b[38;5;241;43m.\u001b[39;49m\u001b[43mpop\u001b[49m\u001b[43m(\u001b[49m\u001b[43m)\u001b[49m\n",
      "\u001b[0;31mTypeError\u001b[0m: pop expected at least 1 argument, got 0"
     ]
    }
   ],
   "source": [
    "d1.pop()"
   ]
  },
  {
   "cell_type": "code",
   "execution_count": 141,
   "id": "139a7f39",
   "metadata": {},
   "outputs": [
    {
     "data": {
      "text/plain": [
       "1"
      ]
     },
     "execution_count": 141,
     "metadata": {},
     "output_type": "execute_result"
    }
   ],
   "source": [
    "d1.pop(\"a\")"
   ]
  },
  {
   "cell_type": "code",
   "execution_count": 142,
   "id": "43566645",
   "metadata": {},
   "outputs": [
    {
     "data": {
      "text/plain": [
       "{'b': 2}"
      ]
     },
     "execution_count": 142,
     "metadata": {},
     "output_type": "execute_result"
    }
   ],
   "source": [
    "d1"
   ]
  },
  {
   "cell_type": "code",
   "execution_count": 143,
   "id": "007266a0",
   "metadata": {},
   "outputs": [],
   "source": [
    "d1.update(d2)"
   ]
  },
  {
   "cell_type": "code",
   "execution_count": 144,
   "id": "2d7f9bb5",
   "metadata": {},
   "outputs": [
    {
     "data": {
      "text/plain": [
       "{'b': 3, 'd': 4}"
      ]
     },
     "execution_count": 144,
     "metadata": {},
     "output_type": "execute_result"
    }
   ],
   "source": [
    "d1"
   ]
  },
  {
   "cell_type": "code",
   "execution_count": 145,
   "id": "de42138a",
   "metadata": {},
   "outputs": [
    {
     "data": {
      "text/plain": [
       "('d', 4)"
      ]
     },
     "execution_count": 145,
     "metadata": {},
     "output_type": "execute_result"
    }
   ],
   "source": [
    "d1.popitem()"
   ]
  },
  {
   "cell_type": "code",
   "execution_count": 165,
   "id": "b9c00aa1",
   "metadata": {},
   "outputs": [],
   "source": [
    "tup =(1,2,34)"
   ]
  },
  {
   "cell_type": "code",
   "execution_count": 163,
   "id": "90650b14",
   "metadata": {},
   "outputs": [
    {
     "ename": "TypeError",
     "evalue": "'dict_keys' object is not subscriptable",
     "output_type": "error",
     "traceback": [
      "\u001b[0;31m---------------------------------------------------------------------------\u001b[0m",
      "\u001b[0;31mTypeError\u001b[0m                                 Traceback (most recent call last)",
      "Cell \u001b[0;32mIn [163], line 1\u001b[0m\n\u001b[0;32m----> 1\u001b[0m \u001b[43md1\u001b[49m\u001b[38;5;241;43m.\u001b[39;49m\u001b[43mkeys\u001b[49m\u001b[43m(\u001b[49m\u001b[43m)\u001b[49m\u001b[43m[\u001b[49m\u001b[38;5;241;43m0\u001b[39;49m\u001b[43m]\u001b[49m\n",
      "\u001b[0;31mTypeError\u001b[0m: 'dict_keys' object is not subscriptable"
     ]
    }
   ],
   "source": [
    " d"
   ]
  },
  {
   "cell_type": "code",
   "execution_count": 166,
   "id": "93cdae7f",
   "metadata": {},
   "outputs": [
    {
     "data": {
      "text/plain": [
       "(1, 2, 34)"
      ]
     },
     "execution_count": 166,
     "metadata": {},
     "output_type": "execute_result"
    }
   ],
   "source": [
    "tup"
   ]
  },
  {
   "cell_type": "code",
   "execution_count": 167,
   "id": "39404e82",
   "metadata": {},
   "outputs": [
    {
     "data": {
      "text/plain": [
       "[1, 2, 34]"
      ]
     },
     "execution_count": 167,
     "metadata": {},
     "output_type": "execute_result"
    }
   ],
   "source": [
    "sorted(tup)\n"
   ]
  },
  {
   "cell_type": "code",
   "execution_count": 168,
   "id": "72cb9925",
   "metadata": {},
   "outputs": [],
   "source": [
    "ls=list(tup)"
   ]
  },
  {
   "cell_type": "code",
   "execution_count": 169,
   "id": "33dec575",
   "metadata": {},
   "outputs": [
    {
     "data": {
      "text/plain": [
       "[1, 2, 34]"
      ]
     },
     "execution_count": 169,
     "metadata": {},
     "output_type": "execute_result"
    }
   ],
   "source": [
    "ls\n"
   ]
  },
  {
   "cell_type": "code",
   "execution_count": 170,
   "id": "2d6e54c9",
   "metadata": {},
   "outputs": [],
   "source": [
    "tp =tuple(ls)"
   ]
  },
  {
   "cell_type": "code",
   "execution_count": 171,
   "id": "f8d596df",
   "metadata": {},
   "outputs": [
    {
     "data": {
      "text/plain": [
       "(1, 2, 34)"
      ]
     },
     "execution_count": 171,
     "metadata": {},
     "output_type": "execute_result"
    }
   ],
   "source": [
    "tp\n"
   ]
  },
  {
   "cell_type": "code",
   "execution_count": null,
   "id": "92e3c029",
   "metadata": {},
   "outputs": [],
   "source": []
  }
 ],
 "metadata": {
  "kernelspec": {
   "display_name": "Python 3 (ipykernel)",
   "language": "python",
   "name": "python3"
  },
  "language_info": {
   "codemirror_mode": {
    "name": "ipython",
    "version": 3
   },
   "file_extension": ".py",
   "mimetype": "text/x-python",
   "name": "python",
   "nbconvert_exporter": "python",
   "pygments_lexer": "ipython3",
   "version": "3.10.7"
  }
 },
 "nbformat": 4,
 "nbformat_minor": 5
}
